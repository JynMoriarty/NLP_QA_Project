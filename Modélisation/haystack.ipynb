{
 "cells": [
  {
   "cell_type": "code",
   "execution_count": 1,
   "metadata": {},
   "outputs": [],
   "source": [
    "import logging\n",
    "\n",
    "from haystack.document_stores import InMemoryDocumentStore\n",
    "from haystack.utils import convert_files_to_docs\n",
    "from haystack.nodes import TextConverter, PDFToTextConverter, DocxToTextConverter, PreProcessor\n",
    "from haystack.nodes import BM25Retriever\n",
    "from haystack.nodes import FARMReader\n",
    "from haystack.pipelines import ExtractiveQAPipeline"
   ]
  },
  {
   "cell_type": "code",
   "execution_count": 2,
   "metadata": {},
   "outputs": [],
   "source": [
    "logging.basicConfig(format=\"%(levelname)s - %(name)s -  %(message)s\", level=logging.WARNING)\n",
    "logging.getLogger(\"haystack\").setLevel(logging.INFO)"
   ]
  },
  {
   "cell_type": "code",
   "execution_count": 3,
   "metadata": {},
   "outputs": [
    {
     "name": "stderr",
     "output_type": "stream",
     "text": [
      "INFO:haystack.modeling.utils:Using devices: CPU - Number of GPUs: 0\n"
     ]
    }
   ],
   "source": [
    "document_store = InMemoryDocumentStore(use_bm25=True)\n",
    "\n",
    "doc_dir = \"./api/data/build_your_first_question_answering_system/\""
   ]
  },
  {
   "cell_type": "code",
   "execution_count": 4,
   "metadata": {},
   "outputs": [
    {
     "name": "stderr",
     "output_type": "stream",
     "text": [
      "pdftotext version 22.02.0\n",
      "Copyright 2005-2022 The Poppler Developers - http://poppler.freedesktop.org\n",
      "Copyright 1996-2011 Glyph & Cog, LLC\n",
      "INFO:haystack.utils.preprocessing:Converting api/data/build_your_first_question_answering_system/politique_de_confidentialite_donnees_personnelles_bdf_mars_2020.pdf\n"
     ]
    },
    {
     "data": {
      "application/vnd.jupyter.widget-view+json": {
       "model_id": "5421e55691e24103b57746c1c3e5703a",
       "version_major": 2,
       "version_minor": 0
      },
      "text/plain": [
       "Preprocessing:   0%|          | 0/1 [00:00<?, ?docs/s]"
      ]
     },
     "metadata": {},
     "output_type": "display_data"
    },
    {
     "name": "stderr",
     "output_type": "stream",
     "text": [
      "WARNING:haystack.nodes.preprocessor.preprocessor:We found one or more sentences whose word count is higher than the split length.\n"
     ]
    },
    {
     "name": "stdout",
     "output_type": "stream",
     "text": [
      "n_files_input: 1\n",
      "n_docs_output: 29\n"
     ]
    }
   ],
   "source": [
    "all_docs = convert_files_to_docs(dir_path=doc_dir)\n",
    "\n",
    "preprocessor = PreProcessor(\n",
    "    clean_empty_lines=True,\n",
    "    clean_whitespace=True,\n",
    "    clean_header_footer=False,\n",
    "    split_by=\"word\",\n",
    "    split_length=100,\n",
    "    split_respect_sentence_boundary=True,\n",
    ")\n",
    "docs = preprocessor.process(all_docs)\n",
    "\n",
    "print(f\"n_files_input: {len(all_docs)}\\nn_docs_output: {len(docs)}\")"
   ]
  },
  {
   "cell_type": "code",
   "execution_count": 5,
   "metadata": {},
   "outputs": [
    {
     "data": {
      "application/vnd.jupyter.widget-view+json": {
       "model_id": "84e6b7ed61264568bda29d0caf0dc917",
       "version_major": 2,
       "version_minor": 0
      },
      "text/plain": [
       "Updating BM25 representation...:   0%|          | 0/29 [00:00<?, ? docs/s]"
      ]
     },
     "metadata": {},
     "output_type": "display_data"
    }
   ],
   "source": [
    "document_store.write_documents(docs)"
   ]
  },
  {
   "cell_type": "code",
   "execution_count": 6,
   "metadata": {},
   "outputs": [
    {
     "name": "stderr",
     "output_type": "stream",
     "text": [
      "INFO:haystack.modeling.utils:Using devices: CPU - Number of GPUs: 0\n",
      "INFO:haystack.modeling.utils:Using devices: CPU - Number of GPUs: 0\n"
     ]
    },
    {
     "data": {
      "application/vnd.jupyter.widget-view+json": {
       "model_id": "8ef5b51b57184dadbe896a089123a7b2",
       "version_major": 2,
       "version_minor": 0
      },
      "text/plain": [
       "Downloading (…)lve/main/config.json:   0%|          | 0.00/515 [00:00<?, ?B/s]"
      ]
     },
     "metadata": {},
     "output_type": "display_data"
    },
    {
     "name": "stderr",
     "output_type": "stream",
     "text": [
      "INFO:haystack.modeling.model.language_model: * LOADING MODEL: 'etalab-ia/camembert-base-squadFR-fquad-piaf' (Camembert)\n"
     ]
    },
    {
     "data": {
      "application/vnd.jupyter.widget-view+json": {
       "model_id": "f11c67763b984e25ae1430fc4d9a4bc6",
       "version_major": 2,
       "version_minor": 0
      },
      "text/plain": [
       "Downloading pytorch_model.bin:   0%|          | 0.00/443M [00:00<?, ?B/s]"
      ]
     },
     "metadata": {},
     "output_type": "display_data"
    },
    {
     "name": "stderr",
     "output_type": "stream",
     "text": [
      "/home/apprenant/.local/lib/python3.10/site-packages/torch/_utils.py:776: UserWarning: TypedStorage is deprecated. It will be removed in the future and UntypedStorage will be the only storage class. This should only matter to you if you are using storages directly.  To access UntypedStorage directly, use tensor.untyped_storage() instead of tensor.storage()\n",
      "  return self.fget.__get__(instance, owner)()\n",
      "INFO:haystack.modeling.model.language_model:Auto-detected model language: french\n",
      "INFO:haystack.modeling.model.language_model:Loaded 'etalab-ia/camembert-base-squadFR-fquad-piaf' (Camembert model) from model hub.\n"
     ]
    },
    {
     "data": {
      "application/vnd.jupyter.widget-view+json": {
       "model_id": "0a4e34bb6b2f45f2b7d921de28504d33",
       "version_major": 2,
       "version_minor": 0
      },
      "text/plain": [
       "Downloading (…)okenizer_config.json:   0%|          | 0.00/24.0 [00:00<?, ?B/s]"
      ]
     },
     "metadata": {},
     "output_type": "display_data"
    },
    {
     "data": {
      "application/vnd.jupyter.widget-view+json": {
       "model_id": "4c0a0202c95f497c869b87f4a1f95b73",
       "version_major": 2,
       "version_minor": 0
      },
      "text/plain": [
       "Downloading (…)tencepiece.bpe.model:   0%|          | 0.00/811k [00:00<?, ?B/s]"
      ]
     },
     "metadata": {},
     "output_type": "display_data"
    },
    {
     "data": {
      "application/vnd.jupyter.widget-view+json": {
       "model_id": "00335aca29ab4433987385821c3ff37b",
       "version_major": 2,
       "version_minor": 0
      },
      "text/plain": [
       "Downloading (…)cial_tokens_map.json:   0%|          | 0.00/210 [00:00<?, ?B/s]"
      ]
     },
     "metadata": {},
     "output_type": "display_data"
    },
    {
     "name": "stderr",
     "output_type": "stream",
     "text": [
      "INFO:haystack.modeling.utils:Using devices: CPU - Number of GPUs: 0\n"
     ]
    }
   ],
   "source": [
    "retriever = BM25Retriever(document_store=document_store)\n",
    "\n",
    "reader = FARMReader(model_name_or_path='etalab-ia/camembert-base-squadFR-fquad-piaf', use_gpu=True)\n",
    "\n",
    "pipe = ExtractiveQAPipeline(reader, retriever)"
   ]
  },
  {
   "cell_type": "code",
   "execution_count": 7,
   "metadata": {},
   "outputs": [
    {
     "name": "stderr",
     "output_type": "stream",
     "text": [
      "WARNING:haystack.document_stores.memory:InMemoryDocumentStore does not support scale_score for BM25 retrieval. This parameter is ignored.\n"
     ]
    },
    {
     "data": {
      "application/vnd.jupyter.widget-view+json": {
       "model_id": "8524b6c546e343499cddab5a0254986d",
       "version_major": 2,
       "version_minor": 0
      },
      "text/plain": [
       "Inferencing Samples:   0%|          | 0/1 [00:00<?, ? Batches/s]"
      ]
     },
     "metadata": {},
     "output_type": "display_data"
    }
   ],
   "source": [
    "prediction = pipe.run(\n",
    "    query=\"Quelle est la banque?\",\n",
    "    params={\n",
    "        \"Retriever\": {\"top_k\": 10},\n",
    "        \"Reader\": {\"top_k\": 5}\n",
    "    }\n",
    ")"
   ]
  },
  {
   "cell_type": "code",
   "execution_count": 8,
   "metadata": {},
   "outputs": [
    {
     "data": {
      "text/plain": [
       "{'query': 'Quelle est la banque?',\n",
       " 'no_ans_gap': 28.806551933288574,\n",
       " 'answers': [<Answer {'answer': 'Banque de France', 'type': 'extractive', 'score': 0.9490039348602295, 'context': 'ans les\\ndocuments de collecte, la(les) convention(s) la liant à la Banque de France, responsable de traitement, ou encore\\nles « Infos légales » située', 'offsets_in_document': [{'start': 271, 'end': 287}], 'offsets_in_context': [{'start': 67, 'end': 83}], 'document_ids': ['af03ed4d30d5944406b34bd1e4e5d6bc'], 'meta': {'name': 'politique_de_confidentialite_donnees_personnelles_bdf_mars_2020.pdf', '_split_id': 24}}>,\n",
       "  <Answer {'answer': 'Banque de France', 'type': 'extractive', 'score': 0.9353502988815308, 'context': 'ces à l’économie. Pour mener à bien l’ensemble de ses missions, la Banque de France est\\nconduite à collecter et à traiter différentes catégories de do', 'offsets_in_document': [{'start': 188, 'end': 204}], 'offsets_in_context': [{'start': 67, 'end': 83}], 'document_ids': ['30c832b416df4bb6900469895ffb36d5'], 'meta': {'name': 'politique_de_confidentialite_donnees_personnelles_bdf_mars_2020.pdf', '_split_id': 1}}>,\n",
       "  <Answer {'answer': 'Banque de France', 'type': 'extractive', 'score': 0.9192103147506714, 'context': 'omptes de la clientèle ou l’utilisation du service d’accueil de la Banque de France « Vos\\ndemandes en ligne » ;\\n\\uf0fc L’intérêt légitime de la Banque de F', 'offsets_in_document': [{'start': 137, 'end': 153}], 'offsets_in_context': [{'start': 67, 'end': 83}], 'document_ids': ['a6e637cdd2f0ac458581bb96440c47e8'], 'meta': {'name': 'politique_de_confidentialite_donnees_personnelles_bdf_mars_2020.pdf', '_split_id': 10}}>,\n",
       "  <Answer {'answer': 'Banque de France', 'type': 'extractive', 'score': 0.90836501121521, 'context': ' du destinataire des données personnelles\\ncollectées au sein de la Banque de France) et améliorer la qualité des produits proposés ou services rendus ', 'offsets_in_document': [{'start': 345, 'end': 361}], 'offsets_in_context': [{'start': 67, 'end': 83}], 'document_ids': ['5e1113d9dbe00c162b23bca8f8236ba8'], 'meta': {'name': 'politique_de_confidentialite_donnees_personnelles_bdf_mars_2020.pdf', '_split_id': 13}}>,\n",
       "  <Answer {'answer': 'Banque de France', 'type': 'extractive', 'score': 0.8849608898162842, 'context': 'nel est fixée par les dispositions qui les régissent.\\nÀ défaut, la Banque de France, responsable de traitement, conserve les données :\\n- pendant la du', 'offsets_in_document': [{'start': 227, 'end': 243}], 'offsets_in_context': [{'start': 67, 'end': 83}], 'document_ids': ['1a0083e9a8088acadfa78e8b0593b682'], 'meta': {'name': 'politique_de_confidentialite_donnees_personnelles_bdf_mars_2020.pdf', '_split_id': 20}}>],\n",
       " 'documents': [<Document: {'content': 'À cet effet, il existe des procédures d’équivalence\\nentre systèmes de protection des données personnelles qui sont gérées par la Commission européenne. En cas\\nde transmission de données vers un destinataire situé dans un pays hors de l’Union européenne et ne bénéficiant\\npas d’une décision d’adéquation rendue par la Commission européenne, la Banque de France s’engage à mettre\\nen œuvre des mesures de protection appropriées, notamment à encadrer la transmission des données par des\\nclauses contractuelles types approuvées par la Commission européenne ou des règles d’entreprises\\ncontraignantes.\\n4. Quelle est la durée de conservation des données ?\\n', 'content_type': 'text', 'score': 4.63773998005755, 'meta': {'name': 'politique_de_confidentialite_donnees_personnelles_bdf_mars_2020.pdf', '_split_id': 19}, 'id_hash_keys': ['content'], 'embedding': None, 'id': 'f97ef53240a367244cfcfc75ef1aa131'}>,\n",
       "  <Document: {'content': 'La Banque de France a désigné un délégué à la protection des données, déclaré auprès de la CNIL.\\nLes coordonnées du délégué à la protection des données sont 1200-DPD-delegue-ut@banque-france.fr.\\n8. Comment prendre connaissance des modifications apportées à la Politique\\nde Confidentialité ?\\nLa Politique de Confidentialité est publiée sur les sites Internet de la Banque de France. Elle est disponible sur\\nsimple demande auprès du délégué à la protection des données, dont les coordonnées sont mentionnées au\\npoint 7 ci-dessus.\\n', 'content_type': 'text', 'score': 2.4856109170216993, 'meta': {'name': 'politique_de_confidentialite_donnees_personnelles_bdf_mars_2020.pdf', '_split_id': 27}, 'id_hash_keys': ['content'], 'embedding': None, 'id': '6f658c8715923064f7a975e8d5941789'}>,\n",
       "  <Document: {'content': 'La personne concernée est informée sur les données collectées, sur les finalités et les bases juridiques des\\ntraitements, sur la durée de conservation des données, sur ses droits en la matière notamment dans les\\ndocuments de collecte, la(les) convention(s) la liant à la Banque de France, responsable de traitement, ou encore\\nles « Infos légales » situées en bas de page des sites Internet.\\nLa personne concernée peut exercer ses droits en adressant sa demande selon les modalités définies pour\\nchaque traitement par la Banque de France.\\n', 'content_type': 'text', 'score': 2.27084581427754, 'meta': {'name': 'politique_de_confidentialite_donnees_personnelles_bdf_mars_2020.pdf', '_split_id': 24}, 'id_hash_keys': ['content'], 'embedding': None, 'id': 'af03ed4d30d5944406b34bd1e4e5d6bc'}>,\n",
       "  <Document: {'content': 'C’est le cas par exemple pour le recrutement, l’activité\\nde tenue de comptes de la clientèle ou l’utilisation du service d’accueil de la Banque de France « Vos\\ndemandes en ligne » ;\\n\\uf0fc L’intérêt légitime de la Banque de France dans le cadre en particulier des mesures de sécurité prises\\npour le contrôle d’accès à ses locaux (vidéosurveillance, badge, etc.)\\uf0fc Le consentement de la personne concernée lorsque celui-ci est requis. ', 'content_type': 'text', 'score': 2.2416267007891952, 'meta': {'name': 'politique_de_confidentialite_donnees_personnelles_bdf_mars_2020.pdf', '_split_id': 10}, 'id_hash_keys': ['content'], 'embedding': None, 'id': 'a6e637cdd2f0ac458581bb96440c47e8'}>,\n",
       "  <Document: {'content': 'Toute modification de la présente Politique de Confidentialité est effective dès sa publication sur les sites\\nInternet de la Banque de France. Seule la version en vigueur est accessible sur ces sites.', 'content_type': 'text', 'score': 2.2238598533420095, 'meta': {'name': 'politique_de_confidentialite_donnees_personnelles_bdf_mars_2020.pdf', '_split_id': 28}, 'id_hash_keys': ['content'], 'embedding': None, 'id': 'ee16f57b0fe6334624411f49bc9dc412'}>,\n",
       "  <Document: {'content': 'Les données collectées peuvent également être utilisées pour prévenir et lutter contre la fraude notamment\\ninformatique (envoi de courriels indésirables ou « spamming », hameçonnage ou « phishing », piratage\\ninformatique ou « hacking », usurpation de la qualité ou de l’identité du destinataire des données personnelles\\ncollectées au sein de la Banque de France) et améliorer la qualité des produits proposés ou services rendus ainsi\\nque, le cas échéant, la navigation sur les sites internet de la Banque de France.\\x0c', 'content_type': 'text', 'score': 2.1976743291888288, 'meta': {'name': 'politique_de_confidentialite_donnees_personnelles_bdf_mars_2020.pdf', '_split_id': 13}, 'id_hash_keys': ['content'], 'embedding': None, 'id': '5e1113d9dbe00c162b23bca8f8236ba8'}>,\n",
       "  <Document: {'content': 'La Banque de France peut faire appel à des prestataires et sous-traitants externes qui agissent sur ses\\ninstructions, pour le traitement de tout ou partie des données à caractère personnel, dans la limite nécessaire à\\nl’accomplissement de leurs prestations.\\nLa Banque de France peut être amenée à transmettre des données à des tiers afin de respecter une obligation\\nlégale, d’exécuter une mission d’intérêt public qui lui est confiée ou un contrat (par exemple : personnes\\nhabilitées à consulter les fichiers tenus par la Banque de France, autorités de supervision, prestataires de services\\nde paiement et gestionnaires de systèmes de paiement). ', 'content_type': 'text', 'score': 2.1797501488721807, 'meta': {'name': 'politique_de_confidentialite_donnees_personnelles_bdf_mars_2020.pdf', '_split_id': 15}, 'id_hash_keys': ['content'], 'embedding': None, 'id': '5a05a44c9c48514d0cc494a65e1b7026'}>,\n",
       "  <Document: {'content': 'Elles sont organisées autour de trois piliers structurants : la stratégie monétaire, la stabilité\\nfinancière et les services à l’économie. Pour mener à bien l’ensemble de ses missions, la Banque de France est\\nconduite à collecter et à traiter différentes catégories de données à caractère personnel.\\n', 'content_type': 'text', 'score': 2.105610533500508, 'meta': {'name': 'politique_de_confidentialite_donnees_personnelles_bdf_mars_2020.pdf', '_split_id': 1}, 'id_hash_keys': ['content'], 'embedding': None, 'id': '30c832b416df4bb6900469895ffb36d5'}>,\n",
       "  <Document: {'content': 'La Banque de France veille en permanence, en sa qualité de responsable de traitement, à la protection des\\ndonnées à caractère personnel et au respect des obligations qui s’imposent à elle pour la collecte, l’utilisation et\\nla conservation de ces données.\\nDans un souci de transparence et de strict respect de ses obligations, la Banque de France a adopté la présente\\nPolitique de Confidentialité afin d’informer l’ensemble des personnes concernées des principes d’utilisation et\\nde protection des données à caractère personnel collectées qu’elle met en œuvre.\\n1. Quelles sont les catégories de données à caractère personnel traitées ?\\n', 'content_type': 'text', 'score': 2.102921344243752, 'meta': {'name': 'politique_de_confidentialite_donnees_personnelles_bdf_mars_2020.pdf', '_split_id': 3}, 'id_hash_keys': ['content'], 'embedding': None, 'id': 'ba9d6b7dfe8c60ea8f4c13ce8a6c1854'}>,\n",
       "  <Document: {'content': 'Lorsque le traitement est fondé sur une obligation légale ou l’exécution d’une mission d’intérêt public, la durée\\nde conservation des données à caractère personnel est fixée par les dispositions qui les régissent.\\nÀ défaut, la Banque de France, responsable de traitement, conserve les données :\\n- pendant la durée de la relation contractuelle ou\\n1\\nCode des relations entre l’administration et le public, art. L312-1-2.\\x0c', 'content_type': 'text', 'score': 2.02635079285307, 'meta': {'name': 'politique_de_confidentialite_donnees_personnelles_bdf_mars_2020.pdf', '_split_id': 20}, 'id_hash_keys': ['content'], 'embedding': None, 'id': '1a0083e9a8088acadfa78e8b0593b682'}>],\n",
       " 'root_node': 'Query',\n",
       " 'params': {'Retriever': {'top_k': 10}, 'Reader': {'top_k': 5}},\n",
       " 'node_id': 'Reader'}"
      ]
     },
     "execution_count": 8,
     "metadata": {},
     "output_type": "execute_result"
    }
   ],
   "source": [
    "prediction"
   ]
  },
  {
   "cell_type": "code",
   "execution_count": 9,
   "metadata": {},
   "outputs": [
    {
     "data": {
      "text/plain": [
       "[<Answer {'answer': 'Banque de France', 'type': 'extractive', 'score': 0.9490039348602295, 'context': 'ans les\\ndocuments de collecte, la(les) convention(s) la liant à la Banque de France, responsable de traitement, ou encore\\nles « Infos légales » située', 'offsets_in_document': [{'start': 271, 'end': 287}], 'offsets_in_context': [{'start': 67, 'end': 83}], 'document_ids': ['af03ed4d30d5944406b34bd1e4e5d6bc'], 'meta': {'name': 'politique_de_confidentialite_donnees_personnelles_bdf_mars_2020.pdf', '_split_id': 24}}>,\n",
       " <Answer {'answer': 'Banque de France', 'type': 'extractive', 'score': 0.9353502988815308, 'context': 'ces à l’économie. Pour mener à bien l’ensemble de ses missions, la Banque de France est\\nconduite à collecter et à traiter différentes catégories de do', 'offsets_in_document': [{'start': 188, 'end': 204}], 'offsets_in_context': [{'start': 67, 'end': 83}], 'document_ids': ['30c832b416df4bb6900469895ffb36d5'], 'meta': {'name': 'politique_de_confidentialite_donnees_personnelles_bdf_mars_2020.pdf', '_split_id': 1}}>,\n",
       " <Answer {'answer': 'Banque de France', 'type': 'extractive', 'score': 0.9192103147506714, 'context': 'omptes de la clientèle ou l’utilisation du service d’accueil de la Banque de France « Vos\\ndemandes en ligne » ;\\n\\uf0fc L’intérêt légitime de la Banque de F', 'offsets_in_document': [{'start': 137, 'end': 153}], 'offsets_in_context': [{'start': 67, 'end': 83}], 'document_ids': ['a6e637cdd2f0ac458581bb96440c47e8'], 'meta': {'name': 'politique_de_confidentialite_donnees_personnelles_bdf_mars_2020.pdf', '_split_id': 10}}>,\n",
       " <Answer {'answer': 'Banque de France', 'type': 'extractive', 'score': 0.90836501121521, 'context': ' du destinataire des données personnelles\\ncollectées au sein de la Banque de France) et améliorer la qualité des produits proposés ou services rendus ', 'offsets_in_document': [{'start': 345, 'end': 361}], 'offsets_in_context': [{'start': 67, 'end': 83}], 'document_ids': ['5e1113d9dbe00c162b23bca8f8236ba8'], 'meta': {'name': 'politique_de_confidentialite_donnees_personnelles_bdf_mars_2020.pdf', '_split_id': 13}}>,\n",
       " <Answer {'answer': 'Banque de France', 'type': 'extractive', 'score': 0.8849608898162842, 'context': 'nel est fixée par les dispositions qui les régissent.\\nÀ défaut, la Banque de France, responsable de traitement, conserve les données :\\n- pendant la du', 'offsets_in_document': [{'start': 227, 'end': 243}], 'offsets_in_context': [{'start': 67, 'end': 83}], 'document_ids': ['1a0083e9a8088acadfa78e8b0593b682'], 'meta': {'name': 'politique_de_confidentialite_donnees_personnelles_bdf_mars_2020.pdf', '_split_id': 20}}>]"
      ]
     },
     "execution_count": 9,
     "metadata": {},
     "output_type": "execute_result"
    }
   ],
   "source": [
    "prediction['answers']"
   ]
  }
 ],
 "metadata": {
  "kernelspec": {
   "display_name": "haystack",
   "language": "python",
   "name": "python3"
  },
  "language_info": {
   "codemirror_mode": {
    "name": "ipython",
    "version": 3
   },
   "file_extension": ".py",
   "mimetype": "text/x-python",
   "name": "python",
   "nbconvert_exporter": "python",
   "pygments_lexer": "ipython3",
   "version": "3.10.0"
  },
  "orig_nbformat": 4
 },
 "nbformat": 4,
 "nbformat_minor": 2
}
