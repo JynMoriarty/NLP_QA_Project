{
 "cells": [
  {
   "cell_type": "code",
   "execution_count": 46,
   "metadata": {},
   "outputs": [
    {
     "name": "stdout",
     "output_type": "stream",
     "text": [
      "Q: How much battery life do I have left?\n",
      "A: No answer found\n"
     ]
    }
   ],
   "source": [
    "from azure.core.credentials import AzureKeyCredential\n",
    "from azure.ai.language.questionanswering import QuestionAnsweringClient\n",
    "\n",
    "endpoint = \"https://question-answering-test-simplon.cognitiveservices.azure.com/\"\n",
    "credential = AzureKeyCredential(\"e518b6bec9204e41b9cf4b968ddc83f6\")\n",
    "knowledge_base_project = \"Projet-X\"\n",
    "deployment = \"production\"\n",
    "\n",
    "def main():\n",
    "    client = QuestionAnsweringClient(endpoint, credential)\n",
    "    with client:\n",
    "        question=\"How much battery life do I have left?\"\n",
    "        output = client.get_answers(\n",
    "            question = question,\n",
    "            project_name=knowledge_base_project,\n",
    "            deployment_name=deployment\n",
    "        )\n",
    "    print(\"Q: {}\".format(question))\n",
    "    print(\"A: {}\".format(output.answers[0].answer))\n",
    "\n",
    "if __name__ == '__main__':\n",
    "    main()"
   ]
  },
  {
   "cell_type": "code",
   "execution_count": 3,
   "metadata": {},
   "outputs": [],
   "source": [
    "f = open('/home/apprenant/Bureau/NLP_QA_Project/Dataset/43_Arya_Stark.txt')\n",
    "text =f.read()[:5000]"
   ]
  },
  {
   "cell_type": "code",
   "execution_count": 9,
   "metadata": {},
   "outputs": [
    {
     "name": "stdout",
     "output_type": "stream",
     "text": [
      "Q:  What is love ?\n",
      "A: bladjakjdazkljdklazjdklazjdlazjdkl,\n",
      "           love is life\n",
      "Confidence Score: 0.21424047648906708\n"
     ]
    }
   ],
   "source": [
    "import os\n",
    "from azure.core.credentials import AzureKeyCredential\n",
    "from azure.ai.language.questionanswering import QuestionAnsweringClient\n",
    "from azure.ai.language.questionanswering import models as qna\n",
    "from dotenv import load_dotenv\n",
    "\n",
    "load_dotenv()\n",
    "endpoint = \"https://question-answering-test-simplon.cognitiveservices.azure.com/\"\n",
    "credential = AzureKeyCredential(os.getenv('credential'))\n",
    "def get_answer(text,question):\n",
    "    client = QuestionAnsweringClient(endpoint, credential)\n",
    "    with client:\n",
    "        input = qna.AnswersFromTextOptions(\n",
    "            question=question,\n",
    "            text_documents=[text]\n",
    "        )\n",
    "\n",
    "\n",
    "        output = client.get_answers_from_text(input)\n",
    "\n",
    "    best_answer = [a for a in output.answers if a.confidence > 0.5][0]\n",
    "    print(u\"Q: {}\".format(input.question))\n",
    "    print(u\"A: {}\".format(best_answer.answer))\n",
    "    print(\"Confidence Score: {}\".format(output.answers[0].confidence))\n",
    "\n",
    "get_answer(bladjakjdazkljdklazjdklazjdlazjdkl love is life'', ' What is love ?')\n"
   ]
  },
  {
   "cell_type": "code",
   "execution_count": 25,
   "metadata": {},
   "outputs": [
    {
     "name": "stdout",
     "output_type": "stream",
     "text": [
      "5\n"
     ]
    }
   ],
   "source": [
    "import PyPDF2\n",
    " \n",
    "#create file object variable\n",
    "#opening method will be rb\n",
    "file=open('/home/apprenant/Bureau/NLP_QA_Project/Dataset/lab_eval.pdf','rb')\n",
    " \n",
    "#create reader variable that will read the pdffileobj\n",
    "reader = PyPDF2.PdfReader(file)\n",
    "liste = []\n",
    "#This will store the number of pages of this pdf file\n",
    "x= len(reader.pages)\n",
    "print(x)\n",
    "for i in range(x) :\n",
    "    page = reader.pages[i]\n",
    "    text = page.extract_text()\n",
    "    liste.append(text)\n",
    "\n",
    "file1=open(r\"/home/apprenant/Bureau/NLP_QA_Project/Dataset/1.txt\",\"a\")\n",
    "file1.writelines(liste)"
   ]
  },
  {
   "cell_type": "code",
   "execution_count": 30,
   "metadata": {},
   "outputs": [
    {
     "data": {
      "text/plain": [
       "12"
      ]
     },
     "execution_count": 30,
     "metadata": {},
     "output_type": "execute_result"
    }
   ],
   "source": [
    "\n",
    "\n",
    "\n"
   ]
  },
  {
   "cell_type": "code",
   "execution_count": 9,
   "metadata": {},
   "outputs": [],
   "source": []
  },
  {
   "cell_type": "code",
   "execution_count": null,
   "metadata": {},
   "outputs": [],
   "source": [
    "from tqdm.auto import tqdm\n",
    "import pinecone\n",
    "import torch\n",
    "from sentence_transformers import SentenceTransformer\n",
    "# connect to pinecone environment\n",
    "def initilisation():\n",
    "    pinecone.init(\n",
    "        api_key=\"1b8c3b2a-c0a7-4ed1-83fc-0ae03d406550\",\n",
    "        environment=\"us-central1-gcp\"\n",
    "    )\n",
    "    index_name = \"test\"\n",
    "\n",
    "    # check if the extractive-question-answering index exists\n",
    "    if index_name not in pinecone.list_indexes():\n",
    "        # create the index if it does not exist\n",
    "        pinecone.create_index(\n",
    "            index_name,\n",
    "            dimension=384,\n",
    "            metric=\"cosine\"\n",
    "        )\n",
    "\n",
    "    # connect to extractive-question-answering index we created\n",
    "    # set device to GPU if available\n",
    "    device = 'cuda' if torch.cuda.is_available() else 'cpu'\n",
    "    # load the retriever model from huggingface model hub\n",
    "    retriever = SentenceTransformer('multi-qa-MiniLM-L6-cos-v1', device=device)\n",
    "    retriever\n",
    "    \n",
    "    dico = {}\n",
    "    dico['index']= pinecone.Index(index_name)\n",
    "    dico['retriever'] = retriever\n",
    "    dico['device']\n",
    "\n",
    "    return dico\n",
    "\n",
    "# we will use batches of 64\n",
    "def save_document(df,retriever,index):\n",
    "    batch_size = 64\n",
    "    for i in tqdm(range(0, len(df), batch_size)):\n",
    "        # find end of batch\n",
    "        i_end = min(i+batch_size, len(df))\n",
    "        # extract batch\n",
    "        batch = df.iloc[i:i_end]\n",
    "        # generate embeddings for batch\n",
    "        emb = retriever.encode(batch[\"context\"].tolist()).tolist()\n",
    "        # get metadata\n",
    "        meta = batch.to_dict(orient=\"records\")\n",
    "        # create unique IDs\n",
    "        ids = [f\"{idx}\" for idx in range(i, i_end)]\n",
    "        # add all to upsert list\n",
    "        to_upsert = list(zip(ids, emb, meta))\n",
    "        # upsert/insert these records to pinecone\n",
    "        _ = index.upsert(vectors=to_upsert)\n",
    "        \n",
    "from transformers import pipeline\n",
    "from pprint import pprint\n",
    "\n",
    "model_name = \"deepset/electra-base-squad2\"\n",
    "# load the reader model into a question-answering pipeline\n",
    "reader = pipeline(tokenizer=model_name, model=model_name, task=\"question-answering\", device=device)\n",
    "def get_context(question, top_k):\n",
    "    # generate embeddings for the question\n",
    "    xq = retriever.encode([question]).tolist()\n",
    "    # search pinecone index for context passage with the answer\n",
    "    xc = index.query(xq, top_k=top_k, include_metadata=True)\n",
    "    # extract the context passage from pinecone search result\n",
    "    c = [x[\"metadata\"][\"context\"] for x in xc[\"matches\"]]\n",
    "    return c\n",
    "\n",
    "def extract_answer(question, context):\n",
    "    results = []\n",
    "    for c in context:\n",
    "        # feed the reader the question and contexts to extract answers\n",
    "        answer = reader(question=question, context=c)\n",
    "        # add the context to answer dict for printing both together\n",
    "        answer[\"context\"] = c\n",
    "        results.append(answer)\n",
    "    # sort the result based on the score from reader model\n",
    "    sorted_result = pprint(sorted(results, key=lambda x: x[\"score\"], reverse=True))\n",
    "    return sorted_result"
   ]
  },
  {
   "cell_type": "code",
   "execution_count": 109,
   "metadata": {},
   "outputs": [
    {
     "data": {
      "text/plain": [
       "\"  Pagen°1: Brief Agile NLP Vous travaillez dans une agence digitale. Votre principal client est un groupe bancaire. Ce dernier aimerait explorer les usages innovants liés au NLP et vous demande de faire une étude de faisabilité sur ce sujet. Vous allez devoir réaliser une veille technologique ainsi qu’une preuve de concept liée au secteur bancaire. Votre mission :  Expliquer clairement la tâche de NLP sur laquelle vous travaillez  Faire une veille technique sur les différents outils et solutions sur le marché pour répondre à cette tâche  Faire un POC mis en production sur un sujet de votre choix lié au secteur bancaire qui permettra d’implémenter cette tâche.  Utiliser la démarche Agile tout au long du projet Les tâches : 1. Question Answering [Jeffrey, Anas, Benjamin] 2. Entity Recognition [Yanis, Emad, Sarah, Hamza] 3. Conversational (chat/bot) [Cédric, Omar, Kamel, Kevin] 4. Text Classification [Léon, Zouhair, Abdellah, Patrick] 5. Summarization [Thomas, Adeline, Steven, Elias] 1 - Explication de la tâche de NLP Si toutes les tâches mettent en œuvre un modèle prédictif, elles sont toutes de nature très différentes. Il faudra donc expliquer les concepts clés qui les entourent, les inputs qu’elles prennent, les outputs et leur évaluation. 2 - La veille technique Le NLP est un secteur en plein boom, il existe de nombreuses technologies en concurrence actuellement. Le but est d’en faire le tour pour voir quelles sont celles à la mode, quelles sont celles spécialisées dans tel ou tel domaine, quelles sont celles prometteuses au niveau technologique, quelles sont celles les plus utilisées. Vous devez dans votre veille technique intégrer au moins trois modèles appartenant à Hugging Face. Vous devez intégrer la technologie d’Azure cognitive service. Vous devez au moins en intégrer une autre. 3 - Le POC Le POC sera constitué d’une interface graphique simple (vous avez le choix du framework ou de streamlit) qui pour une même tâche permettra d’utiliser plusieurs solutions. Vous devrez au minimum implémenter les deux solutions suivantes :  Un modèle Hugging Face entraîné avec Tensor Flow et déployé avec Tensor Flow Serving  L’utilisation d’un service Azure Cognitive Service.  Pagen°2: L’application web ainsi que les modèles prédictifs devront être déployés. Vous devez avant cela sélectionner un sujet en lien avec le secteur bancaire ou susceptible d’être utilisé dans une banque . Mais surtout, vous devez trouver un dataset qui permet de mettre en place la tâche. 4- L’approche Agile Objectif :  Mettre en place la méthode Agile dans un projet IA dans le but du passage de la certification de la méthode Agile Organisation Le formateur joue le rôle de client. Organisation de la première journée : - Sélection des outils pour mettre en place la méthode agile (je vous conseille jira mais vous avez la liberté de choisir votre outil) - Mise en place de la rotation des scrum masters / PO - La première journée vous serez tous products owner - Ensuite pour chaque sprint il faut un PO et un SM - Préparation du projet - Définition du product backlog, création des User Stories et des Tasks avec définition et critère d’évaluation précis à partir du brief initial. - Proposition de MVP à partir des User Stories - Validation obligatoire par le formateur - du Product Backlog et du scope du MVP. - Le client en profitera pour prioriser (cette tâche sera ensuite réalisée par le PO) - Premier Sprint Planning (animé par le Scrum Master): - Poker planning - priorisation par le 1er PO - répartition des tâches Pendant les sprints: Faites les daily meeting quotidiens, le scrum master doit prendre des notes et réaliser un compte rendu en 3 temporalités :  ce qui a été fait hier  ce qui bloqué  ce qui est prévu pour AJD Dates des sprints reviews :  Pagen°3:  1ère sprint review : jeudi 16 mars  2ème sprint review : lundi 20 mars  3ème sprint review : jeudi 23 mars  4ème sprint review : avant le rendu du mardi 4 avril A la fin de chaque Sprint : Sprint review :  Le PO confirme que les critères de validation sont bien remplis pour chaque tâche validée.  Le Scrum Master reconstitue le Product Backlog  Débrief de ce qui a été ou non pendant le sprint en terme d'organisation  Calcul du nombre de points obtenus par personne et au global. Rencontre Product Owner et client :  le PO fait un debrief de ce qui a été réalisé  le client apporte si besoin de nouvelles consignes  le client réorganise ses priorités  le PO retranscrit les nouvelles tâches et priorités dans le product backlog Sprint planning :  Poker sur les nouvelles tâches  Répartition des tâches en fonction des points obtenus précédemment. Exemple de backlogs : - A ne pas faire car trop détaillé - A faire car bien équilibré Attention à ne pas tomber dans l’extrême opposé et de ne pas détailler les tâches / User Stories. Planning : Rôle du scrum master :  Planifier et animer les rituels  Garant de l’intégrité de l’équipe et du respect des méthodologies Agile  Livrables : Kanban, calcul des efforts, etc.  Pagen°4: Rôle du Product owner :  Représenter les utilisateurs finaux  Traduire les volontés du clients en US 1  Livrable : product backlog Évaluation : La certification est évaluée selon les deux modalités ci-dessous. L'évaluation finale est menée par un jury composé de deux professionnels habilités. Toutes les compétences (100%) doivent être acquises pour obtenir la certification. 1. Projet professionnel: - Réalisation d'un rapport écrit de 5 à 15 pages qui a pour objectif de présenter la démarche générale de gestion de projet Agile adoptée dans le cadre du projet professionnel. - Le rapport donnera lieu à une soutenance orale devant le jury de 10 minutes suivie d’un échange. 2. Cas pratique : Animation d’un échange constructif avec le jury à la manière du rituel Agile identifié et préparé pendant la formation. La durée de l’animation est de 15 minutes, elle est suivie d’un échange. Ressources sur la certification Agile Livrables: Vous devrez réaliser une présentation de 20 minutes appuyée par des slides qui reprendra les points suivants:  L’explication de la tâche  La veille technique  Le compte rendu du POC Vous devez également rendre sur simplon-online le github de votre projet. Les livrables liés à la certification Agile. Critères d’évaluation globaux:  La spécificité de la tâche de NLP est clairement et simplement expliquée (schéma, vocabulaire essentiel mis en évidence)  Les critères utilisés pour comparer les solutions techniques sont clairement mis en évidence et sont pertinents.  Les sources de votre veille technique sont partagées et pertinentes.  Les différentes solutions techniques sont correctement évaluées sur tous les critères de la veille  Les critères d’évaluation des solutions mises en place pendant le POC sont clairement présentés et sont pertinents. 1  Pagen°5:  Les solutions sont mises en œuvre correctement.  Le git rendu respecte les bonnes pratiques: read.me, tests, docstring / commentaires / arborescence propre / informations de sécurité cachées, branches propres.  La méthode agile a été respectée lors de l’évaluation du projet. Ressources: https://huggingface.co/course/chapter1/1 https://learn.microsoft.com/en-us/azure/cognitive-services/\""
      ]
     },
     "execution_count": 109,
     "metadata": {},
     "output_type": "execute_result"
    }
   ],
   "source": [
    "from PyPDF2 import PdfReader\n",
    "import pdfrw\n",
    "import re\n",
    "import pandas as pd\n",
    "reader = PdfReader('/home/apprenant/Bureau/NLP_QA_Project/Dataset/Brief - Agile - NLP.pdf')\n",
    "\n",
    "title_list = []\n",
    "context_list = []\n",
    "text = ''\n",
    "clean_text = ''\n",
    "for i, page in enumerate(reader.pages):                \n",
    "    text += f'\\n\\nPage n°{i+1} :\\n'\n",
    "    n =page.extract_text()\n",
    "    text += n\n",
    "clean_text = text.replace(\" \",\"\").replace('●', '').replace(\"\\n\",\" \")\n",
    "text= text.split('\\n\\n')\n",
    "\n",
    "for i in range(1,len(text)):\n",
    "    text[i]=text[i].replace(\" \",\"\").replace('●', '').replace(\"\\n\",\" \")\n",
    "    context_list.append(text[i])\n",
    "    title_list.append('test')\n",
    "\n",
    "\n",
    "df =pd.DataFrame({\"titre\":title_list,\"contexte\":context_list})\n",
    "clean_text"
   ]
  },
  {
   "cell_type": "code",
   "execution_count": 95,
   "metadata": {},
   "outputs": [
    {
     "data": {
      "text/plain": [
       "['',\n",
       " 'Pagen°1: Brief Agile NLP Vous travaillez dans une agence digitale. Votre principal client est un groupe bancaire. Ce dernier aimerait explorer les usages innovants liés au NLP et vous demande de faire une étude de faisabilité sur ce sujet. Vous allez devoir réaliser une veille technologique ainsi qu’une preuve de concept liée au secteur bancaire. Votre mission :',\n",
       " 'Expliquer clairement la tâche de NLP sur laquelle vous travaillez',\n",
       " 'Faire une veille technique sur les différents outils et solutions sur le marché pour répondre à cette tâche',\n",
       " 'Faire un POC mis en production sur un sujet de votre choix lié au secteur bancaire qui permettra d’implémenter cette tâche.',\n",
       " 'Utiliser la démarche Agile tout au long du projet Les tâches : 1. Question Answering [Jeffrey, Anas, Benjamin] 2. Entity Recognition [Yanis, Emad, Sarah, Hamza] 3. Conversational (chat/bot) [Cédric, Omar, Kamel, Kevin] 4. Text Classification [Léon, Zouhair, Abdellah, Patrick] 5. Summarization [Thomas, Adeline, Steven, Elias] 1 - Explication de la tâche de NLP Si toutes les tâches mettent en œuvre un modèle prédictif, elles sont toutes de nature très différentes. Il faudra donc expliquer les concepts clés qui les entourent, les inputs qu’elles prennent, les outputs et leur évaluation. 2 - La veille technique Le NLP est un secteur en plein boom, il existe de nombreuses technologies en concurrence actuellement. Le but est d’en faire le tour pour voir quelles sont celles à la mode, quelles sont celles spécialisées dans tel ou tel domaine, quelles sont celles prometteuses au niveau technologique, quelles sont celles les plus utilisées. Vous devez dans votre veille technique intégrer au moins trois modèles appartenant à Hugging Face. Vous devez intégrer la technologie d’Azure cognitive service. Vous devez au moins en intégrer une autre. 3 - Le POC Le POC sera constitué d’une interface graphique simple (vous avez le choix du framework ou de streamlit) qui pour une même tâche permettra d’utiliser plusieurs solutions. Vous devrez au minimum implémenter les deux solutions suivantes :',\n",
       " 'Un modèle Hugging Face entraîné avec Tensor Flow et déployé avec Tensor Flow Serving',\n",
       " 'L’utilisation d’un service Azure Cognitive Service.',\n",
       " 'Pagen°2: L’application web ainsi que les modèles prédictifs devront être déployés. Vous devez avant cela sélectionner un sujet en lien avec le secteur bancaire ou susceptible d’être utilisé dans une banque . Mais surtout, vous devez trouver un dataset qui permet de mettre en place la tâche. 4- L’approche Agile Objectif :',\n",
       " 'Mettre en place la méthode Agile dans un projet IA dans le but du passage de la certification de la méthode Agile Organisation Le formateur joue le rôle de client. Organisation de la première journée : - Sélection des outils pour mettre en place la méthode agile (je vous conseille jira mais vous avez la liberté de choisir votre outil) - Mise en place de la rotation des scrum masters / PO - La première journée vous serez tous products owner - Ensuite pour chaque sprint il faut un PO et un SM - Préparation du projet - Définition du product backlog, création des User Stories et des Tasks avec définition et critère d’évaluation précis à partir du brief initial. - Proposition de MVP à partir des User Stories - Validation obligatoire par le formateur - du Product Backlog et du scope du MVP. - Le client en profitera pour prioriser (cette tâche sera ensuite réalisée par le PO) - Premier Sprint Planning (animé par le Scrum Master): - Poker planning - priorisation par le 1er PO - répartition des tâches Pendant les sprints: Faites les daily meeting quotidiens, le scrum master doit prendre des notes et réaliser un compte rendu en 3 temporalités :',\n",
       " 'ce qui a été fait hier',\n",
       " 'ce qui bloqué',\n",
       " 'ce qui est prévu pour AJD Dates des sprints reviews :',\n",
       " 'Pagen°3:',\n",
       " '1ère sprint review : jeudi 16 mars',\n",
       " '2ème sprint review : lundi 20 mars',\n",
       " '3ème sprint review : jeudi 23 mars',\n",
       " '4ème sprint review : avant le rendu du mardi 4 avril A la fin de chaque Sprint : Sprint review :',\n",
       " 'Le PO confirme que les critères de validation sont bien remplis pour chaque tâche validée.',\n",
       " 'Le Scrum Master reconstitue le Product Backlog',\n",
       " \"Débrief de ce qui a été ou non pendant le sprint en terme d'organisation\",\n",
       " 'Calcul du nombre de points obtenus par personne et au global. Rencontre Product Owner et client :',\n",
       " 'le PO fait un debrief de ce qui a été réalisé',\n",
       " 'le client apporte si besoin de nouvelles consignes',\n",
       " 'le client réorganise ses priorités',\n",
       " 'le PO retranscrit les nouvelles tâches et priorités dans le product backlog Sprint planning :',\n",
       " 'Poker sur les nouvelles tâches',\n",
       " 'Répartition des tâches en fonction des points obtenus précédemment. Exemple de backlogs : - A ne pas faire car trop détaillé - A faire car bien équilibré Attention à ne pas tomber dans l’extrême opposé et de ne pas détailler les tâches / User Stories. Planning : Rôle du scrum master :',\n",
       " 'Planifier et animer les rituels',\n",
       " 'Garant de l’intégrité de l’équipe et du respect des méthodologies Agile',\n",
       " 'Livrables : Kanban, calcul des efforts, etc.',\n",
       " 'Pagen°4: Rôle du Product owner :',\n",
       " 'Représenter les utilisateurs finaux',\n",
       " 'Traduire les volontés du clients en US 1',\n",
       " \"Livrable : product backlog Évaluation : La certification est évaluée selon les deux modalités ci-dessous. L'évaluation finale est menée par un jury composé de deux professionnels habilités. Toutes les compétences (100%) doivent être acquises pour obtenir la certification. 1. Projet professionnel: - Réalisation d'un rapport écrit de 5 à 15 pages qui a pour objectif de présenter la démarche générale de gestion de projet Agile adoptée dans le cadre du projet professionnel. - Le rapport donnera lieu à une soutenance orale devant le jury de 10 minutes suivie d’un échange. 2. Cas pratique : Animation d’un échange constructif avec le jury à la manière du rituel Agile identifié et préparé pendant la formation. La durée de l’animation est de 15 minutes, elle est suivie d’un échange. Ressources sur la certification Agile Livrables: Vous devrez réaliser une présentation de 20 minutes appuyée par des slides qui reprendra les points suivants:\",\n",
       " 'L’explication de la tâche',\n",
       " 'La veille technique',\n",
       " 'Le compte rendu du POC Vous devez également rendre sur simplon-online le github de votre projet. Les livrables liés à la certification Agile. Critères d’évaluation globaux:',\n",
       " 'La spécificité de la tâche de NLP est clairement et simplement expliquée (schéma, vocabulaire essentiel mis en évidence)',\n",
       " 'Les critères utilisés pour comparer les solutions techniques sont clairement mis en évidence et sont pertinents.',\n",
       " 'Les sources de votre veille technique sont partagées et pertinentes.',\n",
       " 'Les différentes solutions techniques sont correctement évaluées sur tous les critères de la veille',\n",
       " 'Les critères d’évaluation des solutions mises en place pendant le POC sont clairement présentés et sont pertinents. 1',\n",
       " 'Pagen°5:',\n",
       " 'Les solutions sont mises en œuvre correctement.',\n",
       " 'Le git rendu respecte les bonnes pratiques: read.me, tests, docstring / commentaires / arborescence propre / informations de sécurité cachées, branches propres.',\n",
       " 'La méthode agile a été respectée lors de l’évaluation du projet. Ressources: https://huggingface.co/course/chapter1/1 https://learn.microsoft.com/en-us/azure/cognitive-services/']"
      ]
     },
     "execution_count": 95,
     "metadata": {},
     "output_type": "execute_result"
    }
   ],
   "source": [
    "text"
   ]
  },
  {
   "cell_type": "code",
   "execution_count": 94,
   "metadata": {},
   "outputs": [
    {
     "data": {
      "text/html": [
       "<div>\n",
       "<style scoped>\n",
       "    .dataframe tbody tr th:only-of-type {\n",
       "        vertical-align: middle;\n",
       "    }\n",
       "\n",
       "    .dataframe tbody tr th {\n",
       "        vertical-align: top;\n",
       "    }\n",
       "\n",
       "    .dataframe thead th {\n",
       "        text-align: right;\n",
       "    }\n",
       "</style>\n",
       "<table border=\"1\" class=\"dataframe\">\n",
       "  <thead>\n",
       "    <tr style=\"text-align: right;\">\n",
       "      <th></th>\n",
       "      <th>titre</th>\n",
       "      <th>contexte</th>\n",
       "    </tr>\n",
       "  </thead>\n",
       "  <tbody>\n",
       "    <tr>\n",
       "      <th>0</th>\n",
       "      <td>test</td>\n",
       "      <td>Pagen°1: Brief Agile NLP Vous travaillez dans ...</td>\n",
       "    </tr>\n",
       "    <tr>\n",
       "      <th>1</th>\n",
       "      <td>test</td>\n",
       "      <td>Expliquer clairement la tâche de NLP sur laque...</td>\n",
       "    </tr>\n",
       "    <tr>\n",
       "      <th>2</th>\n",
       "      <td>test</td>\n",
       "      <td>Faire une veille technique sur les différents ...</td>\n",
       "    </tr>\n",
       "    <tr>\n",
       "      <th>3</th>\n",
       "      <td>test</td>\n",
       "      <td>Faire un POC mis en production sur un sujet de...</td>\n",
       "    </tr>\n",
       "    <tr>\n",
       "      <th>4</th>\n",
       "      <td>test</td>\n",
       "      <td>Utiliser la démarche Agile tout au long du pro...</td>\n",
       "    </tr>\n",
       "    <tr>\n",
       "      <th>5</th>\n",
       "      <td>test</td>\n",
       "      <td>Un modèle Hugging Face entraîné avec Tensor Fl...</td>\n",
       "    </tr>\n",
       "    <tr>\n",
       "      <th>6</th>\n",
       "      <td>test</td>\n",
       "      <td>L’utilisation d’un service Azure Cognitive Ser...</td>\n",
       "    </tr>\n",
       "    <tr>\n",
       "      <th>7</th>\n",
       "      <td>test</td>\n",
       "      <td>Pagen°2: L’application web ainsi que les modèl...</td>\n",
       "    </tr>\n",
       "    <tr>\n",
       "      <th>8</th>\n",
       "      <td>test</td>\n",
       "      <td>Mettre en place la méthode Agile dans un proje...</td>\n",
       "    </tr>\n",
       "    <tr>\n",
       "      <th>9</th>\n",
       "      <td>test</td>\n",
       "      <td>ce qui a été fait hier</td>\n",
       "    </tr>\n",
       "    <tr>\n",
       "      <th>10</th>\n",
       "      <td>test</td>\n",
       "      <td>ce qui bloqué</td>\n",
       "    </tr>\n",
       "    <tr>\n",
       "      <th>11</th>\n",
       "      <td>test</td>\n",
       "      <td>ce qui est prévu pour AJD Dates des sprints re...</td>\n",
       "    </tr>\n",
       "    <tr>\n",
       "      <th>12</th>\n",
       "      <td>test</td>\n",
       "      <td>Pagen°3:</td>\n",
       "    </tr>\n",
       "    <tr>\n",
       "      <th>13</th>\n",
       "      <td>test</td>\n",
       "      <td>1ère sprint review : jeudi 16 mars</td>\n",
       "    </tr>\n",
       "    <tr>\n",
       "      <th>14</th>\n",
       "      <td>test</td>\n",
       "      <td>2ème sprint review : lundi 20 mars</td>\n",
       "    </tr>\n",
       "    <tr>\n",
       "      <th>15</th>\n",
       "      <td>test</td>\n",
       "      <td>3ème sprint review : jeudi 23 mars</td>\n",
       "    </tr>\n",
       "    <tr>\n",
       "      <th>16</th>\n",
       "      <td>test</td>\n",
       "      <td>4ème sprint review : avant le rendu du mardi 4...</td>\n",
       "    </tr>\n",
       "    <tr>\n",
       "      <th>17</th>\n",
       "      <td>test</td>\n",
       "      <td>Le PO confirme que les critères de validation ...</td>\n",
       "    </tr>\n",
       "    <tr>\n",
       "      <th>18</th>\n",
       "      <td>test</td>\n",
       "      <td>Le Scrum Master reconstitue le Product Backlog</td>\n",
       "    </tr>\n",
       "    <tr>\n",
       "      <th>19</th>\n",
       "      <td>test</td>\n",
       "      <td>Débrief de ce qui a été ou non pendant le spri...</td>\n",
       "    </tr>\n",
       "    <tr>\n",
       "      <th>20</th>\n",
       "      <td>test</td>\n",
       "      <td>Calcul du nombre de points obtenus par personn...</td>\n",
       "    </tr>\n",
       "    <tr>\n",
       "      <th>21</th>\n",
       "      <td>test</td>\n",
       "      <td>le PO fait un debrief de ce qui a été réalisé</td>\n",
       "    </tr>\n",
       "    <tr>\n",
       "      <th>22</th>\n",
       "      <td>test</td>\n",
       "      <td>le client apporte si besoin de nouvelles consi...</td>\n",
       "    </tr>\n",
       "    <tr>\n",
       "      <th>23</th>\n",
       "      <td>test</td>\n",
       "      <td>le client réorganise ses priorités</td>\n",
       "    </tr>\n",
       "    <tr>\n",
       "      <th>24</th>\n",
       "      <td>test</td>\n",
       "      <td>le PO retranscrit les nouvelles tâches et prio...</td>\n",
       "    </tr>\n",
       "    <tr>\n",
       "      <th>25</th>\n",
       "      <td>test</td>\n",
       "      <td>Poker sur les nouvelles tâches</td>\n",
       "    </tr>\n",
       "    <tr>\n",
       "      <th>26</th>\n",
       "      <td>test</td>\n",
       "      <td>Répartition des tâches en fonction des points ...</td>\n",
       "    </tr>\n",
       "    <tr>\n",
       "      <th>27</th>\n",
       "      <td>test</td>\n",
       "      <td>Planifier et animer les rituels</td>\n",
       "    </tr>\n",
       "    <tr>\n",
       "      <th>28</th>\n",
       "      <td>test</td>\n",
       "      <td>Garant de l’intégrité de l’équipe et du respec...</td>\n",
       "    </tr>\n",
       "    <tr>\n",
       "      <th>29</th>\n",
       "      <td>test</td>\n",
       "      <td>Livrables : Kanban, calcul des efforts, etc.</td>\n",
       "    </tr>\n",
       "    <tr>\n",
       "      <th>30</th>\n",
       "      <td>test</td>\n",
       "      <td>Pagen°4: Rôle du Product owner :</td>\n",
       "    </tr>\n",
       "    <tr>\n",
       "      <th>31</th>\n",
       "      <td>test</td>\n",
       "      <td>Représenter les utilisateurs finaux</td>\n",
       "    </tr>\n",
       "    <tr>\n",
       "      <th>32</th>\n",
       "      <td>test</td>\n",
       "      <td>Traduire les volontés du clients en US 1</td>\n",
       "    </tr>\n",
       "    <tr>\n",
       "      <th>33</th>\n",
       "      <td>test</td>\n",
       "      <td>Livrable : product backlog Évaluation : La cer...</td>\n",
       "    </tr>\n",
       "    <tr>\n",
       "      <th>34</th>\n",
       "      <td>test</td>\n",
       "      <td>L’explication de la tâche</td>\n",
       "    </tr>\n",
       "    <tr>\n",
       "      <th>35</th>\n",
       "      <td>test</td>\n",
       "      <td>La veille technique</td>\n",
       "    </tr>\n",
       "    <tr>\n",
       "      <th>36</th>\n",
       "      <td>test</td>\n",
       "      <td>Le compte rendu du POC Vous devez également re...</td>\n",
       "    </tr>\n",
       "    <tr>\n",
       "      <th>37</th>\n",
       "      <td>test</td>\n",
       "      <td>La spécificité de la tâche de NLP est claireme...</td>\n",
       "    </tr>\n",
       "    <tr>\n",
       "      <th>38</th>\n",
       "      <td>test</td>\n",
       "      <td>Les critères utilisés pour comparer les soluti...</td>\n",
       "    </tr>\n",
       "    <tr>\n",
       "      <th>39</th>\n",
       "      <td>test</td>\n",
       "      <td>Les sources de votre veille technique sont par...</td>\n",
       "    </tr>\n",
       "    <tr>\n",
       "      <th>40</th>\n",
       "      <td>test</td>\n",
       "      <td>Les différentes solutions techniques sont corr...</td>\n",
       "    </tr>\n",
       "    <tr>\n",
       "      <th>41</th>\n",
       "      <td>test</td>\n",
       "      <td>Les critères d’évaluation des solutions mises ...</td>\n",
       "    </tr>\n",
       "    <tr>\n",
       "      <th>42</th>\n",
       "      <td>test</td>\n",
       "      <td>Pagen°5:</td>\n",
       "    </tr>\n",
       "    <tr>\n",
       "      <th>43</th>\n",
       "      <td>test</td>\n",
       "      <td>Les solutions sont mises en œuvre correctement.</td>\n",
       "    </tr>\n",
       "    <tr>\n",
       "      <th>44</th>\n",
       "      <td>test</td>\n",
       "      <td>Le git rendu respecte les bonnes pratiques: re...</td>\n",
       "    </tr>\n",
       "    <tr>\n",
       "      <th>45</th>\n",
       "      <td>test</td>\n",
       "      <td>La méthode agile a été respectée lors de l’éva...</td>\n",
       "    </tr>\n",
       "  </tbody>\n",
       "</table>\n",
       "</div>"
      ],
      "text/plain": [
       "   titre                                           contexte\n",
       "0   test  Pagen°1: Brief Agile NLP Vous travaillez dans ...\n",
       "1   test  Expliquer clairement la tâche de NLP sur laque...\n",
       "2   test  Faire une veille technique sur les différents ...\n",
       "3   test  Faire un POC mis en production sur un sujet de...\n",
       "4   test  Utiliser la démarche Agile tout au long du pro...\n",
       "5   test  Un modèle Hugging Face entraîné avec Tensor Fl...\n",
       "6   test  L’utilisation d’un service Azure Cognitive Ser...\n",
       "7   test  Pagen°2: L’application web ainsi que les modèl...\n",
       "8   test  Mettre en place la méthode Agile dans un proje...\n",
       "9   test                             ce qui a été fait hier\n",
       "10  test                                      ce qui bloqué\n",
       "11  test  ce qui est prévu pour AJD Dates des sprints re...\n",
       "12  test                                           Pagen°3:\n",
       "13  test                 1ère sprint review : jeudi 16 mars\n",
       "14  test                 2ème sprint review : lundi 20 mars\n",
       "15  test                 3ème sprint review : jeudi 23 mars\n",
       "16  test  4ème sprint review : avant le rendu du mardi 4...\n",
       "17  test  Le PO confirme que les critères de validation ...\n",
       "18  test     Le Scrum Master reconstitue le Product Backlog\n",
       "19  test  Débrief de ce qui a été ou non pendant le spri...\n",
       "20  test  Calcul du nombre de points obtenus par personn...\n",
       "21  test      le PO fait un debrief de ce qui a été réalisé\n",
       "22  test  le client apporte si besoin de nouvelles consi...\n",
       "23  test                 le client réorganise ses priorités\n",
       "24  test  le PO retranscrit les nouvelles tâches et prio...\n",
       "25  test                     Poker sur les nouvelles tâches\n",
       "26  test  Répartition des tâches en fonction des points ...\n",
       "27  test                    Planifier et animer les rituels\n",
       "28  test  Garant de l’intégrité de l’équipe et du respec...\n",
       "29  test       Livrables : Kanban, calcul des efforts, etc.\n",
       "30  test                   Pagen°4: Rôle du Product owner :\n",
       "31  test                Représenter les utilisateurs finaux\n",
       "32  test           Traduire les volontés du clients en US 1\n",
       "33  test  Livrable : product backlog Évaluation : La cer...\n",
       "34  test                          L’explication de la tâche\n",
       "35  test                                La veille technique\n",
       "36  test  Le compte rendu du POC Vous devez également re...\n",
       "37  test  La spécificité de la tâche de NLP est claireme...\n",
       "38  test  Les critères utilisés pour comparer les soluti...\n",
       "39  test  Les sources de votre veille technique sont par...\n",
       "40  test  Les différentes solutions techniques sont corr...\n",
       "41  test  Les critères d’évaluation des solutions mises ...\n",
       "42  test                                           Pagen°5:\n",
       "43  test    Les solutions sont mises en œuvre correctement.\n",
       "44  test  Le git rendu respecte les bonnes pratiques: re...\n",
       "45  test  La méthode agile a été respectée lors de l’éva..."
      ]
     },
     "execution_count": 94,
     "metadata": {},
     "output_type": "execute_result"
    }
   ],
   "source": [
    "df"
   ]
  },
  {
   "cell_type": "code",
   "execution_count": 84,
   "metadata": {},
   "outputs": [
    {
     "data": {
      "text/plain": [
       "['Pagen°1:BriefAgileNLPVoustravaillezdansuneagencedigitale.Votreprincipalclientestungroupebancaire.CedernieraimeraitexplorerlesusagesinnovantsliésauNLPetvousdemandedefaireuneétudedefaisabilitésurcesujet.Vousallezdevoirréaliseruneveilletechnologiqueainsiqu’unepreuvedeconceptliéeausecteurbancaire.Votremission:ExpliquerclairementlatâchedeNLPsurlaquellevoustravaillezFaireuneveilletechniquesurlesdifférentsoutilsetsolutionssurlemarchépourrépondreàcettetâcheFaireunPOCmisenproductionsurunsujetdevotrechoixliéausecteurbancairequipermettrad’implémentercettetâche.UtiliserladémarcheAgiletoutaulongduprojetLestâches:1.QuestionAnswering[Jeffrey,Anas,Benjamin]2.EntityRecognition[Yanis,Emad,Sarah,Hamza]3.Conversational(chat/bot)[Cédric,Omar,Kamel,Kevin]4.TextClassification[Léon,Zouhair,Abdellah,Patrick]5.Summarization[Thomas,Adeline,Steven,Elias]1-ExplicationdelatâchedeNLPSitouteslestâchesmettentenœuvreunmodèleprédictif,ellessonttoutesdenaturetrèsdifférentes.Ilfaudradoncexpliquerlesconceptsclésquilesentourent,lesinputsqu’ellesprennent,lesoutputsetleurévaluation.2-LaveilletechniqueLeNLPestunsecteurenpleinboom,ilexistedenombreusestechnologiesenconcurrenceactuellement.Lebutestd’enfaireletourpourvoirquellessontcellesàlamode,quellessontcellesspécialiséesdanstelouteldomaine,quellessontcellesprometteusesauniveautechnologique,quellessontcelleslesplusutilisées.VousdevezdansvotreveilletechniqueintégreraumoinstroismodèlesappartenantàHuggingFace.Vousdevezintégrerlatechnologied’Azurecognitiveservice.Vousdevezaumoinsenintégreruneautre.3-LePOCLePOCseraconstituéd’uneinterfacegraphiquesimple(vousavezlechoixduframeworkoudestreamlit)quipourunemêmetâchepermettrad’utiliserplusieurssolutions.Vousdevrezauminimumimplémenterlesdeuxsolutionssuivantes:UnmodèleHuggingFaceentraînéavecTensorFlowetdéployéavecTensorFlowServingL’utilisationd’unserviceAzureCognitiveService.',\n",
       " 'Pagen°2:L’applicationwebainsiquelesmodèlesprédictifsdevrontêtredéployés.Vousdevezavantcelasélectionnerunsujetenlienaveclesecteurbancaireoususceptibled’êtreutilisédansunebanque.Maissurtout,vousdeveztrouverundatasetquipermetdemettreenplacelatâche.4-L’approcheAgileObjectif:MettreenplacelaméthodeAgiledansunprojetIAdanslebutdupassagedelacertificationdelaméthodeAgileOrganisationLeformateurjouelerôledeclient.Organisationdelapremièrejournée:-Sélectiondesoutilspourmettreenplacelaméthodeagile(jevousconseillejiramaisvousavezlalibertédechoisirvotreoutil)-Miseenplacedelarotationdesscrummasters/PO-Lapremièrejournéevoussereztousproductsowner-EnsuitepourchaquesprintilfautunPOetunSM-Préparationduprojet-Définitionduproductbacklog,créationdesUserStoriesetdesTasksavecdéfinitionetcritèred’évaluationprécisàpartirdubriefinitial.-PropositiondeMVPàpartirdesUserStories-Validationobligatoireparleformateur-duProductBacklogetduscopeduMVP.-Leclientenprofiterapourprioriser(cettetâcheseraensuiteréaliséeparlePO)-PremierSprintPlanning(animéparleScrumMaster):-Pokerplanning-priorisationparle1erPO-répartitiondestâchesPendantlessprints:Faiteslesdailymeetingquotidiens,lescrummasterdoitprendredesnotesetréaliseruncompterenduen3temporalités:cequiaétéfaithiercequibloquécequiestprévupourAJDDatesdessprintsreviews:',\n",
       " \"Pagen°3:1èresprintreview:jeudi16mars2èmesprintreview:lundi20mars3èmesprintreview:jeudi23mars4èmesprintreview:avantlerendudumardi4avrilAlafindechaqueSprint:Sprintreview:LePOconfirmequelescritèresdevalidationsontbienremplispourchaquetâchevalidée.LeScrumMasterreconstitueleProductBacklogDébriefdecequiaétéounonpendantlesprintentermed'organisationCalculdunombredepointsobtenusparpersonneetauglobal.RencontreProductOwneretclient:lePOfaitundebriefdecequiaétéréaliséleclientapportesibesoindenouvellesconsignesleclientréorganisesesprioritéslePOretranscritlesnouvellestâchesetprioritésdansleproductbacklogSprintplanning:PokersurlesnouvellestâchesRépartitiondestâchesenfonctiondespointsobtenusprécédemment.Exempledebacklogs:-Anepasfairecartropdétaillé-AfairecarbienéquilibréAttentionànepastomberdansl’extrêmeopposéetdenepasdétaillerlestâches/UserStories.Planning:Rôleduscrummaster:PlanifieretanimerlesrituelsGarantdel’intégritédel’équipeetdurespectdesméthodologiesAgileLivrables:Kanban,calculdesefforts,etc.\",\n",
       " \"Pagen°4:RôleduProductowner:ReprésenterlesutilisateursfinauxTraduirelesvolontésduclientsenUS1Livrable:productbacklogÉvaluation:Lacertificationestévaluéeselonlesdeuxmodalitésci-dessous.L'évaluationfinaleestmenéeparunjurycomposédedeuxprofessionnelshabilités.Touteslescompétences(100%)doiventêtreacquisespourobtenirlacertification.1.Projetprofessionnel:-Réalisationd'unrapportécritde5à15pagesquiapourobjectifdeprésenterladémarchegénéraledegestiondeprojetAgileadoptéedanslecadreduprojetprofessionnel.-Lerapportdonneralieuàunesoutenanceoraledevantlejuryde10minutessuivied’unéchange.2.Caspratique:Animationd’unéchangeconstructifaveclejuryàlamanièredurituelAgileidentifiéetpréparépendantlaformation.Laduréedel’animationestde15minutes,elleestsuivied’unéchange.RessourcessurlacertificationAgileLivrables:Vousdevrezréaliseruneprésentationde20minutesappuyéepardesslidesquireprendralespointssuivants:L’explicationdelatâcheLaveilletechniqueLecompterenduduPOCVousdevezégalementrendresursimplon-onlinelegithubdevotreprojet.LeslivrablesliésàlacertificationAgile.Critèresd’évaluationglobaux:LaspécificitédelatâchedeNLPestclairementetsimplementexpliquée(schéma,vocabulaireessentielmisenévidence)Lescritèresutiliséspourcomparerlessolutionstechniquessontclairementmisenévidenceetsontpertinents.Lessourcesdevotreveilletechniquesontpartagéesetpertinentes.LesdifférentessolutionstechniquessontcorrectementévaluéessurtouslescritèresdelaveilleLescritèresd’évaluationdessolutionsmisesenplacependantlePOCsontclairementprésentésetsontpertinents.1\"]"
      ]
     },
     "execution_count": 84,
     "metadata": {},
     "output_type": "execute_result"
    }
   ],
   "source": [
    "new = ''\n",
    "for i in range(1,len(text)):\n",
    "    text[i]=text[i].replace('\\n','').replace('●', '').\n",
    "new = text[1:5]\n",
    "new"
   ]
  },
  {
   "cell_type": "code",
   "execution_count": 38,
   "metadata": {},
   "outputs": [
    {
     "data": {
      "text/plain": [
       "' r i e fA g i l eN L PV o u st r a v a i l l e zd a n su n ea g e n c ed i g i t a l e .V o t r ep r i n c i p a lc l i e n te s tu ng r o u p eb a n c a i r e .C ed e r n i e ra i m e r a i te x p l o r e rl e su s a g e si n n o v a n t sl i é sa uN L Pe tv o u sd e m a n d ed ef a i r eu n eé t u d ed ef a i s a b i l i t és u rc es u j e t .V o u sa l l e zd e v o i rr é a l i s e ru n ev e i l l et e c h n o l o g i q u ea i n s iq u ’ u n ep r e u v ed ec o n c e p tl i é ea us e c t e u rb a n c a i r e .V o t r em i s s i o n:●E x p l i q u e rc l a i r e m e n tl at â c h ed eN L Ps u rl a q u e l l ev o u st r a v a i l l e z●F a i r eu n ev e i l l et e c h n i q u es u rl e sd i f f é r e n t so u t i l se ts o l u t i o n ss u rl em a r c h ép o u rr é p o n d r eàc e t t et â c h e●F a i r eu nP O Cm i se np r o d u c t i o ns u ru ns u j e td ev o t r ec h o i xl i éa us e c t e u rb a n c a i r eq u ip e r m e t t r ad ’ i m p l é m e n t e rc e t t et â c h e .●U t i l i s e rl ad é m a r c h eA g i l et o u ta ul o n gd up r o j e tL e st â c h e s:1 .Q u e s t i o nA n s w e r i n g[ J e f f r e y ,A n a s ,B e n j a m i n ]2 .E n t i t yR e c o g n i t i o n[ Y a n i s ,E m a d ,S a r a h ,H a m z a ]3 .C o n v e r s a t i o n a l( c h a t / b o t )[ C é d r i c ,O m a r ,K a m e l ,K e v i n ]4 .T e x tC l a s s i f i c a t i o n[ L é o n ,Z o u h a i r ,A b d e l l a h ,P a t r i c k ]5 .S u m m a r i z a t i o n[ T h o m a s ,A d e l i n e ,S t e v e n ,E l i a s ]1-E x p l i c a t i o nd el at â c h ed eN L PS it o u t e sl e st â c h e sm e t t e n te nœ u v r eu nm o d è l ep r é d i c t i f ,e l l e ss o n tt o u t e sd en a t u r et r è sd i f f é r e n t e s .I lf a u d r ad o n ce x p l i q u e rl e sc o n c e p t sc l é sq u il e se n t o u r e n t ,l e si n p u t sq u ’ e l l e sp r e n n e n t ,l e so u t p u t se tl e u ré v a l u a t i o n .2-L av e i l l et e c h n i q u eL eN L Pe s tu ns e c t e u re np l e i nb o o m ,i le x i s t ed en o m b r e u s e st e c h n o l o g i e se nc o n c u r r e n c ea c t u e l l e m e n t .L eb u te s td ’ e nf a i r el et o u rp o u rv o i rq u e l l e ss o n tc e l l e sàl am o d e ,q u e l l e ss o n tc e l l e ss p é c i a l i s é e sd a n st e lo ut e ld o m a i n e ,q u e l l e ss o n tc e l l e sp r o m e t t e u s e sa un i v e a ut e c h n o l o g i q u e ,q u e l l e ss o n tc e l l e sl e sp l u su t i l i s é e s .V o u sd e v e zd a n sv o t r ev e i l l et e c h n i q u ei n t é g r e ra um o i n st r o i sm o d è l e sa p p a r t e n a n tàH u g g i n gF a c e .V o u sd e v e zi n t é g r e rl at e c h n o l o g i ed ’ A z u r ec o g n i t i v es e r v i c e .V o u sd e v e za um o i n se ni n t é g r e ru n ea u t r e .3-L eP O CL eP O Cs e r ac o n s t i t u éd ’ u n ei n t e r f a c eg r a p h i q u es i m p l e( v o u sa v e zl ec h o i xd uf r a m e w o r ko ud es t r e a m l i t )q u ip o u ru n em ê m et â c h ep e r m e t t r ad ’ u t i l i s e rp l u s i e u r ss o l u t i o n s .V o u sd e v r e za um i n i m u mi m p l é m e n t e rl e sd e u xs o l u t i o n ss u i v a n t e s:●U nm o d è l eH u g g i n gF a c ee n t r a î n éa v e cT e n s o rF l o we td é p l o y éa v e cT e n s o rF l o wS e r v i n g●L ’ u t i l i s a t i o nd ’ u ns e r v i c eA z u r eC o g n i t i v eS e r v i c e .L ’ a p p l i c a t i o nw e ba i n s iq u el e sm o d è l e sp r é d i c t i f sd e v r o n tê t r ed é p l o y é s .V o u sd e v e za v a n tc e l as é l e c t i o n n e ru ns u j e te nl i e na v e cl es e c t e u rb a n c a i r eo us u s c e p t i b l ed ’ ê t r eu t i l i s éd a n su n eb a n q u e.M a i ss u r t o u t ,v o u sd e v e zt r o u v e ru nd a t a s e tq u ip e r m e td em e t t r ee np l a c el at â c h e .4 -L ’ a p p r o c h eA g i l eO b j e c t i f:●M e t t r ee np l a c el am é t h o d eA g i l ed a n su np r o j e tI Ad a n sl eb u td up a s s a g ed el ac e r t i f i c a t i o nd el am é t h o d eA g i l eO r g a n i s a t i o nL ef o r m a t e u rj o u el er ô l ed ec l i e n t .O r g a n i s a t i o nd el ap r e m i è r ej o u r n é e:-S é l e c t i o nd e so u t i l sp o u rm e t t r ee np l a c el am é t h o d ea g i l e( j ev o u sc o n s e i l l ej i r am a i sv o u sa v e zl al i b e r t éd ec h o i s i rv o t r eo u t i l )-M i s ee np l a c ed el ar o t a t i o nd e ss c r u mm a s t e r s/P O-L ap r e m i è r ej o u r n é ev o u ss e r e zt o u sp r o d u c t so w n e r-E n s u i t ep o u rc h a q u es p r i n ti lf a u tu nP Oe tu nS M-P r é p a r a t i o nd up r o j e t-D é f i n i t i o nd up r o d u c tb a c k l o g ,c r é a t i o nd e sU s e rS t o r i e se td e sT a s k sa v e cd é f i n i t i o ne tc r i t è r ed ’ é v a l u a t i o np r é c i sàp a r t i rd ub r i e fi n i t i a l .-P r o p o s i t i o nd eM V Pàp a r t i rd e sU s e rS t o r i e s-V a l i d a t i o no b l i g a t o i r ep a rl ef o r m a t e u r-d uP r o d u c tB a c k l o ge td us c o p ed uM V P .-L ec l i e n te np r o f i t e r ap o u rp r i o r i s e r( c e t t et â c h es e r ae n s u i t er é a l i s é ep a rl eP O )-P r e m i e rS p r i n tP l a n n i n g( a n i m ép a rl eS c r u mM a s t e r ) :-P o k e rp l a n n i n g-p r i o r i s a t i o np a rl e1 e rP O-r é p a r t i t i o nd e st â c h e sP e n d a n tl e ss p r i n t s :F a i t e sl e sd a i l ym e e t i n gq u o t i d i e n s ,l es c r u mm a s t e rd o i tp r e n d r ed e sn o t e se tr é a l i s e ru nc o m p t er e n d ue n3t e m p o r a l i t é s:●c eq u iaé t éf a i th i e r●c eq u ib l o q u é●c eq u ie s tp r é v up o u rA J DD a t e sd e ss p r i n t sr e v i e w s:'"
      ]
     },
     "execution_count": 38,
     "metadata": {},
     "output_type": "execute_result"
    }
   ],
   "source": [
    "new =\n",
    "\n",
    "for i in range(1,len(text)) :\n",
    "    text[i].replace('\\n', ' ')\n",
    "\n",
    "text"
   ]
  },
  {
   "cell_type": "code",
   "execution_count": 34,
   "metadata": {},
   "outputs": [
    {
     "data": {
      "text/plain": [
       "0"
      ]
     },
     "execution_count": 34,
     "metadata": {},
     "output_type": "execute_result"
    }
   ],
   "source": [
    "import torch\n",
    "torch.cuda.current_device()\n"
   ]
  },
  {
   "cell_type": "code",
   "execution_count": 35,
   "metadata": {},
   "outputs": [
    {
     "data": {
      "text/plain": [
       "True"
      ]
     },
     "execution_count": 35,
     "metadata": {},
     "output_type": "execute_result"
    }
   ],
   "source": [
    "torch.cuda.is_available()"
   ]
  },
  {
   "cell_type": "code",
   "execution_count": 37,
   "metadata": {},
   "outputs": [
    {
     "data": {
      "text/plain": [
       "device(type='cuda')"
      ]
     },
     "execution_count": 37,
     "metadata": {},
     "output_type": "execute_result"
    }
   ],
   "source": [
    "torch.device(\"cuda\")"
   ]
  }
 ],
 "metadata": {
  "kernelspec": {
   "display_name": "NLP_QA_Project-_BgixJ9r",
   "language": "python",
   "name": "python3"
  },
  "language_info": {
   "codemirror_mode": {
    "name": "ipython",
    "version": 3
   },
   "file_extension": ".py",
   "mimetype": "text/x-python",
   "name": "python",
   "nbconvert_exporter": "python",
   "pygments_lexer": "ipython3",
   "version": "3.10.6"
  },
  "orig_nbformat": 4,
  "vscode": {
   "interpreter": {
    "hash": "94d2d5de0b5bb2debac03450215c00d4fc1ecde71d6a9a680eafe1039dff2941"
   }
  }
 },
 "nbformat": 4,
 "nbformat_minor": 2
}
