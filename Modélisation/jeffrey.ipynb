{
 "cells": [
  {
   "cell_type": "code",
   "execution_count": 46,
   "metadata": {},
   "outputs": [
    {
     "name": "stdout",
     "output_type": "stream",
     "text": [
      "Q: How much battery life do I have left?\n",
      "A: No answer found\n"
     ]
    }
   ],
   "source": [
    "from azure.core.credentials import AzureKeyCredential\n",
    "from azure.ai.language.questionanswering import QuestionAnsweringClient\n",
    "\n",
    "endpoint = \"https://question-answering-test-simplon.cognitiveservices.azure.com/\"\n",
    "credential = AzureKeyCredential(\"e518b6bec9204e41b9cf4b968ddc83f6\")\n",
    "knowledge_base_project = \"Projet-X\"\n",
    "deployment = \"production\"\n",
    "\n",
    "def main():\n",
    "    client = QuestionAnsweringClient(endpoint, credential)\n",
    "    with client:\n",
    "        question=\"How much battery life do I have left?\"\n",
    "        output = client.get_answers(\n",
    "            question = question,\n",
    "            project_name=knowledge_base_project,\n",
    "            deployment_name=deployment\n",
    "        )\n",
    "    print(\"Q: {}\".format(question))\n",
    "    print(\"A: {}\".format(output.answers[0].answer))\n",
    "\n",
    "if __name__ == '__main__':\n",
    "    main()"
   ]
  },
  {
   "cell_type": "code",
   "execution_count": 47,
   "metadata": {},
   "outputs": [],
   "source": [
    "f = open('/home/apprenant/Bureau/NLP_QA_Project/Dataset/43_Arya_Stark.txt')\n",
    "text =f.read()[:5000]"
   ]
  },
  {
   "cell_type": "code",
   "execution_count": 49,
   "metadata": {},
   "outputs": [
    {
     "name": "stdout",
     "output_type": "stream",
     "text": [
      "Q: Who is Arya ?\n",
      "A: Arya is portrayed by English actress Maisie Williams in HBO's Emmy-winning television adaptation of the novel series, ''Game of Thrones''.  Her performance has garnered critical acclaim, particularly in the second season for her work opposite veteran actor Charles Dance (Tywin Lannister) when she served as his cupbearer. She is among the most popular characters in either version of the story.\n",
      "Confidence Score: 0.9703437089920044\n"
     ]
    }
   ],
   "source": [
    "import os\n",
    "from azure.core.credentials import AzureKeyCredential\n",
    "from azure.ai.language.questionanswering import QuestionAnsweringClient\n",
    "from azure.ai.language.questionanswering import models as qna\n",
    "\n",
    "endpoint = \"https://question-answering-test-simplon.cognitiveservices.azure.com/\"\n",
    "credential = AzureKeyCredential(\"e518b6bec9204e41b9cf4b968ddc83f6\")\n",
    "\n",
    "def main():\n",
    "    client = QuestionAnsweringClient(endpoint, credential)\n",
    "    with client:\n",
    "        question=\"Who is Arya ?\"\n",
    "        input = qna.AnswersFromTextOptions(\n",
    "            question=question,\n",
    "            text_documents=[text]\n",
    "        )\n",
    "\n",
    "\n",
    "        output = client.get_answers_from_text(input)\n",
    "\n",
    "    best_answer = [a for a in output.answers if a.confidence > 0.5][0]\n",
    "    print(u\"Q: {}\".format(input.question))\n",
    "    print(u\"A: {}\".format(best_answer.answer))\n",
    "    print(\"Confidence Score: {}\".format(output.answers[0].confidence))\n",
    "\n",
    "if __name__ == '__main__':\n",
    "    main()"
   ]
  },
  {
   "cell_type": "code",
   "execution_count": 25,
   "metadata": {},
   "outputs": [
    {
     "name": "stdout",
     "output_type": "stream",
     "text": [
      "5\n"
     ]
    }
   ],
   "source": [
    "import PyPDF2\n",
    " \n",
    "#create file object variable\n",
    "#opening method will be rb\n",
    "file=open('/home/apprenant/Bureau/NLP_QA_Project/Dataset/lab_eval.pdf','rb')\n",
    " \n",
    "#create reader variable that will read the pdffileobj\n",
    "reader = PyPDF2.PdfReader(file)\n",
    "liste = []\n",
    "#This will store the number of pages of this pdf file\n",
    "x= len(reader.pages)\n",
    "print(x)\n",
    "for i in range(x) :\n",
    "    page = reader.pages[i]\n",
    "    text = page.extract_text()\n",
    "    liste.append(text)\n",
    "\n",
    "file1=open(r\"/home/apprenant/Bureau/NLP_QA_Project/Dataset/1.txt\",\"a\")\n",
    "file1.writelines(liste)"
   ]
  },
  {
   "cell_type": "code",
   "execution_count": 30,
   "metadata": {},
   "outputs": [
    {
     "data": {
      "text/plain": [
       "12"
      ]
     },
     "execution_count": 30,
     "metadata": {},
     "output_type": "execute_result"
    }
   ],
   "source": []
  },
  {
   "cell_type": "code",
   "execution_count": null,
   "metadata": {},
   "outputs": [
    {
     "ename": "",
     "evalue": "",
     "output_type": "error",
     "traceback": [
      "\u001b[1;31mCanceled future for execute_request message before replies were done"
     ]
    },
    {
     "ename": "",
     "evalue": "",
     "output_type": "error",
     "traceback": [
      "\u001b[1;31mLe Kernel s’est bloqué lors de l’exécution du code dans la cellule active ou une cellule précédente. Veuillez vérifier le code dans la ou les cellules pour identifier une cause possible de l’échec. Cliquez <a href='https://aka.ms/vscodeJupyterKernelCrash'>ici</a> pour plus d’informations. Pour plus d’informations, consultez Jupyter <a href='command:jupyter.viewOutput'>log</a>."
     ]
    }
   ],
   "source": [
    "\n"
   ]
  }
 ],
 "metadata": {
  "kernelspec": {
   "display_name": "NLP_QA_Project-_BgixJ9r",
   "language": "python",
   "name": "python3"
  },
  "language_info": {
   "codemirror_mode": {
    "name": "ipython",
    "version": 3
   },
   "file_extension": ".py",
   "mimetype": "text/x-python",
   "name": "python",
   "nbconvert_exporter": "python",
   "pygments_lexer": "ipython3",
   "version": "3.10.6 (main, Nov 14 2022, 16:10:14) [GCC 11.3.0]"
  },
  "orig_nbformat": 4,
  "vscode": {
   "interpreter": {
    "hash": "94d2d5de0b5bb2debac03450215c00d4fc1ecde71d6a9a680eafe1039dff2941"
   }
  }
 },
 "nbformat": 4,
 "nbformat_minor": 2
}
