{
 "cells": [
  {
   "cell_type": "code",
   "execution_count": 1,
   "metadata": {},
   "outputs": [
    {
     "name": "stderr",
     "output_type": "stream",
     "text": [
      "2023-03-24 13:59:40.617374: I tensorflow/core/platform/cpu_feature_guard.cc:182] This TensorFlow binary is optimized to use available CPU instructions in performance-critical operations.\n",
      "To enable the following instructions: AVX2 FMA, in other operations, rebuild TensorFlow with the appropriate compiler flags.\n",
      "2023-03-24 13:59:41.638455: W tensorflow/compiler/tf2tensorrt/utils/py_utils.cc:38] TF-TRT Warning: Could not find TensorRT\n"
     ]
    }
   ],
   "source": [
    "import time\n",
    "\n",
    "start = time.time()\n",
    "\n",
    "import logging\n",
    "\n",
    "from haystack.document_stores import InMemoryDocumentStore\n",
    "from haystack.utils import convert_files_to_docs\n",
    "from haystack.nodes import TextConverter, PDFToTextConverter, DocxToTextConverter, PreProcessor\n",
    "from haystack.nodes import BM25Retriever\n",
    "from haystack.nodes import FARMReader\n",
    "from haystack.pipelines import ExtractiveQAPipeline"
   ]
  },
  {
   "cell_type": "code",
   "execution_count": 2,
   "metadata": {},
   "outputs": [],
   "source": [
    "logging.basicConfig(format=\"%(levelname)s - %(name)s -  %(message)s\", level=logging.WARNING)\n",
    "logging.getLogger(\"haystack\").setLevel(logging.INFO)"
   ]
  },
  {
   "cell_type": "code",
   "execution_count": 3,
   "metadata": {},
   "outputs": [
    {
     "name": "stderr",
     "output_type": "stream",
     "text": [
      "INFO:haystack.modeling.utils:Using devices: CPU - Number of GPUs: 0\n"
     ]
    }
   ],
   "source": [
    "document_store = InMemoryDocumentStore(use_bm25=True)\n",
    "\n",
    "doc_dir = \"./api/data/build_your_first_question_answering_system/\"\n"
   ]
  },
  {
   "cell_type": "code",
   "execution_count": 4,
   "metadata": {},
   "outputs": [
    {
     "name": "stderr",
     "output_type": "stream",
     "text": [
      "pdftotext version 22.02.0\n",
      "Copyright 2005-2022 The Poppler Developers - http://poppler.freedesktop.org\n",
      "Copyright 1996-2011 Glyph & Cog, LLC\n",
      "INFO:haystack.utils.preprocessing:Converting api/data/build_your_first_question_answering_system/politique_de_confidentialite_donnees_personnelles_bdf_mars_2020.pdf\n"
     ]
    },
    {
     "data": {
      "application/vnd.jupyter.widget-view+json": {
       "model_id": "2b524f6f409b497b80f9cc8aa97fa254",
       "version_major": 2,
       "version_minor": 0
      },
      "text/plain": [
       "Preprocessing:   0%|          | 0/1 [00:00<?, ?docs/s]"
      ]
     },
     "metadata": {},
     "output_type": "display_data"
    },
    {
     "name": "stderr",
     "output_type": "stream",
     "text": [
      "WARNING:haystack.nodes.preprocessor.preprocessor:We found one or more sentences whose word count is higher than the split length.\n"
     ]
    },
    {
     "name": "stdout",
     "output_type": "stream",
     "text": [
      "n_files_input: 1\n",
      "n_docs_output: 29\n"
     ]
    }
   ],
   "source": [
    "all_docs = convert_files_to_docs(dir_path=doc_dir)\n",
    "\n",
    "preprocessor = PreProcessor(\n",
    "    language='fr',\n",
    "    clean_empty_lines=True,\n",
    "    clean_whitespace=True,\n",
    "    clean_header_footer=False,\n",
    "    split_by=\"word\",\n",
    "    split_length=100,\n",
    "    split_respect_sentence_boundary=True,\n",
    ")\n",
    "docs = preprocessor.process(all_docs)\n",
    "\n",
    "for doc in docs:\n",
    "    doc.content = doc.content.replace('\\n', ' ')\n",
    "\n",
    "print(f\"n_files_input: {len(all_docs)}\\nn_docs_output: {len(docs)}\")"
   ]
  },
  {
   "cell_type": "code",
   "execution_count": 5,
   "metadata": {},
   "outputs": [
    {
     "data": {
      "application/vnd.jupyter.widget-view+json": {
       "model_id": "eb47c9c47dae4a72b6bf68febbf61bd9",
       "version_major": 2,
       "version_minor": 0
      },
      "text/plain": [
       "Updating BM25 representation...:   0%|          | 0/29 [00:00<?, ? docs/s]"
      ]
     },
     "metadata": {},
     "output_type": "display_data"
    }
   ],
   "source": [
    "document_store.write_documents(docs)"
   ]
  },
  {
   "cell_type": "code",
   "execution_count": 6,
   "metadata": {},
   "outputs": [],
   "source": [
    "retriever = BM25Retriever(document_store=document_store)\n"
   ]
  },
  {
   "cell_type": "code",
   "execution_count": 7,
   "metadata": {},
   "outputs": [
    {
     "name": "stderr",
     "output_type": "stream",
     "text": [
      "INFO:haystack.modeling.utils:Using devices: CPU - Number of GPUs: 0\n",
      "INFO:haystack.modeling.utils:Using devices: CPU - Number of GPUs: 0\n",
      "INFO:haystack.modeling.model.language_model: * LOADING MODEL: 'deepset/roberta-base-squad2' (Roberta)\n",
      "/home/apprenant/.local/lib/python3.10/site-packages/torch/_utils.py:776: UserWarning: TypedStorage is deprecated. It will be removed in the future and UntypedStorage will be the only storage class. This should only matter to you if you are using storages directly.  To access UntypedStorage directly, use tensor.untyped_storage() instead of tensor.storage()\n",
      "  return self.fget.__get__(instance, owner)()\n",
      "INFO:haystack.modeling.model.language_model:Auto-detected model language: english\n",
      "INFO:haystack.modeling.model.language_model:Loaded 'deepset/roberta-base-squad2' (Roberta model) from model hub.\n",
      "INFO:haystack.modeling.utils:Using devices: CPU - Number of GPUs: 0\n",
      "INFO:haystack.nodes.reader.farm:Saving reader model to ./api/data/model_en\n",
      "INFO:haystack.modeling.utils:Using devices: CPU - Number of GPUs: 0\n",
      "INFO:haystack.modeling.utils:Using devices: CPU - Number of GPUs: 0\n",
      "INFO:haystack.modeling.model.language_model: * LOADING MODEL: './api/data/model_en' (Roberta)\n",
      "INFO:haystack.modeling.model.language_model:Loaded './api/data/model_en' (Roberta model) from local file system.\n",
      "INFO:haystack.modeling.model.adaptive_model:Found files for loading 1 prediction heads\n",
      "WARNING:haystack.modeling.model.prediction_head:Some unused parameters are passed to the QuestionAnsweringHead. Might not be a problem. Params: {\"training\": false, \"num_labels\": 2, \"ph_output_type\": \"per_token_squad\", \"model_type\": \"span_classification\", \"label_tensor_name\": \"question_answering_label_ids\", \"label_list\": [\"start_token\", \"end_token\"], \"metric\": \"squad\", \"name\": \"QuestionAnsweringHead\"}\n",
      "INFO:haystack.modeling.model.prediction_head:Loading prediction head from api/data/model_en/prediction_head_0.bin\n",
      "INFO:haystack.modeling.data_handler.processor:Initialized processor without tasks. Supply `metric` and `label_list` to the constructor for using the default task or add a custom task later via processor.add_task()\n",
      "INFO:haystack.modeling.utils:Using devices: CPU - Number of GPUs: 0\n"
     ]
    }
   ],
   "source": [
    "# Load a remote model from HuggingFace's model hub\n",
    "reader1 = FARMReader(model_name_or_path=\"deepset/roberta-base-squad2\")\n",
    "\n",
    "# Save locally (in FARM format)\n",
    "reader1.save(\"./api/data/model_en\")\n",
    "\n",
    "# Load locally (FARM format)\n",
    "reader_local1 = FARMReader(model_name_or_path=\"./api/data/model_en\")"
   ]
  },
  {
   "cell_type": "code",
   "execution_count": 8,
   "metadata": {},
   "outputs": [
    {
     "name": "stderr",
     "output_type": "stream",
     "text": [
      "INFO:haystack.modeling.utils:Using devices: CPU - Number of GPUs: 0\n",
      "INFO:haystack.modeling.utils:Using devices: CPU - Number of GPUs: 0\n",
      "INFO:haystack.modeling.model.language_model: * LOADING MODEL: 'etalab-ia/camembert-base-squadFR-fquad-piaf' (Camembert)\n",
      "INFO:haystack.modeling.model.language_model:Auto-detected model language: french\n",
      "INFO:haystack.modeling.model.language_model:Loaded 'etalab-ia/camembert-base-squadFR-fquad-piaf' (Camembert model) from model hub.\n",
      "INFO:haystack.modeling.utils:Using devices: CPU - Number of GPUs: 0\n",
      "INFO:haystack.nodes.reader.farm:Saving reader model to ./api/data/model_fr\n",
      "INFO:haystack.modeling.utils:Using devices: CPU - Number of GPUs: 0\n",
      "INFO:haystack.modeling.utils:Using devices: CPU - Number of GPUs: 0\n",
      "INFO:haystack.modeling.model.language_model: * LOADING MODEL: './api/data/model_fr' (Camembert)\n",
      "INFO:haystack.modeling.model.language_model:Loaded './api/data/model_fr' (Camembert model) from local file system.\n",
      "INFO:haystack.modeling.model.adaptive_model:Found files for loading 1 prediction heads\n",
      "WARNING:haystack.modeling.model.prediction_head:Some unused parameters are passed to the QuestionAnsweringHead. Might not be a problem. Params: {\"training\": false, \"num_labels\": 2, \"ph_output_type\": \"per_token_squad\", \"model_type\": \"span_classification\", \"label_tensor_name\": \"question_answering_label_ids\", \"label_list\": [\"start_token\", \"end_token\"], \"metric\": \"squad\", \"name\": \"QuestionAnsweringHead\"}\n",
      "INFO:haystack.modeling.model.prediction_head:Loading prediction head from api/data/model_fr/prediction_head_0.bin\n",
      "INFO:haystack.modeling.data_handler.processor:Initialized processor without tasks. Supply `metric` and `label_list` to the constructor for using the default task or add a custom task later via processor.add_task()\n",
      "INFO:haystack.modeling.utils:Using devices: CPU - Number of GPUs: 0\n"
     ]
    }
   ],
   "source": [
    "# Load a remote model from HuggingFace's model hub\n",
    "reader = FARMReader(model_name_or_path=\"etalab-ia/camembert-base-squadFR-fquad-piaf\")\n",
    "\n",
    "# Save locally (in FARM format)\n",
    "reader.save(\"./api/data/model_fr\")\n",
    "\n",
    "# Load locally (FARM format)\n",
    "reader_local = FARMReader(model_name_or_path=\"./api/data/model_fr\")"
   ]
  },
  {
   "cell_type": "code",
   "execution_count": 9,
   "metadata": {},
   "outputs": [],
   "source": [
    "pipe = ExtractiveQAPipeline(reader_local, retriever)"
   ]
  },
  {
   "cell_type": "code",
   "execution_count": 10,
   "metadata": {},
   "outputs": [
    {
     "name": "stderr",
     "output_type": "stream",
     "text": [
      "WARNING:haystack.document_stores.memory:InMemoryDocumentStore does not support scale_score for BM25 retrieval. This parameter is ignored.\n"
     ]
    },
    {
     "data": {
      "application/vnd.jupyter.widget-view+json": {
       "model_id": "a5f7eefa08fb4b2189918cb66ea02caa",
       "version_major": 2,
       "version_minor": 0
      },
      "text/plain": [
       "Inferencing Samples:   0%|          | 0/1 [00:00<?, ? Batches/s]"
      ]
     },
     "metadata": {},
     "output_type": "display_data"
    }
   ],
   "source": [
    "prediction = pipe.run(\n",
    "    query=\"De quel système fait parti intégrante la banque de france?\",\n",
    "    params={\n",
    "        \"Retriever\": {\"top_k\": 10},\n",
    "        \"Reader\": {\"top_k\": 5}\n",
    "    }\n",
    ")"
   ]
  },
  {
   "cell_type": "code",
   "execution_count": 11,
   "metadata": {},
   "outputs": [
    {
     "data": {
      "text/plain": [
       "{'query': 'De quel système fait parti intégrante la banque de france?',\n",
       " 'no_ans_gap': 28.93003273010254,\n",
       " 'answers': [<Answer {'answer': 'paiement', 'type': 'extractive', 'score': 0.9637909531593323, 'context': 'les fichiers tenus par la Banque de France, autorités de supervision, prestataires de services de paiement et gestionnaires de systèmes de paiement). ', 'offsets_in_document': [{'start': 594, 'end': 602}], 'offsets_in_context': [{'start': 98, 'end': 106}], 'document_ids': ['5a05a44c9c48514d0cc494a65e1b7026'], 'meta': {'name': 'politique_de_confidentialite_donnees_personnelles_bdf_mars_2020.pdf', '_split_id': 15}}>,\n",
       "  <Answer {'answer': 'Banque de France', 'type': 'extractive', 'score': 0.85355544090271, 'context': 'fidentialité est effective dès sa publication sur les sites Internet de la Banque de France. Seule la version en vigueur est accessible sur ces sites.', 'offsets_in_document': [{'start': 125, 'end': 141}], 'offsets_in_context': [{'start': 75, 'end': 91}], 'document_ids': ['ee16f57b0fe6334624411f49bc9dc412'], 'meta': {'name': 'politique_de_confidentialite_donnees_personnelles_bdf_mars_2020.pdf', '_split_id': 28}}>,\n",
       "  <Answer {'answer': 'Vos demandes en ligne', 'type': 'extractive', 'score': 0.7360570430755615, 'context': 'e ou l’utilisation du service d’accueil de la Banque de France « Vos demandes en ligne » ; \\uf0fc L’intérêt légitime de la Banque de France dans le cadre e', 'offsets_in_document': [{'start': 156, 'end': 177}], 'offsets_in_context': [{'start': 65, 'end': 86}], 'document_ids': ['75376aca86d87692a5d945b5b0903402'], 'meta': {'name': 'politique_de_confidentialite_donnees_personnelles_bdf_mars_2020.pdf', '_split_id': 10}}>,\n",
       "  <Answer {'answer': 'Système européen de banques centrales', 'type': 'extractive', 'score': 0.6560273170471191, 'context': ' personnel La Banque de France fait partie intégrante du Système européen de banques centrales (SEBC) institué par l’article 8 du traité instituant la', 'offsets_in_document': [{'start': 227, 'end': 264}], 'offsets_in_context': [{'start': 57, 'end': 94}], 'document_ids': ['9fb2ec43920e75d4c1d7ff5013084682'], 'meta': {'name': 'politique_de_confidentialite_donnees_personnelles_bdf_mars_2020.pdf', '_split_id': 0}}>,\n",
       "  <Answer {'answer': 'Banque de France a désigné un délégué à la protection des données', 'type': 'extractive', 'score': 0.5555158853530884, 'context': 'La Banque de France a désigné un délégué à la protection des données, déclaré auprès de la CNIL. Les coordonnées du délégué à la protection des donnée', 'offsets_in_document': [{'start': 3, 'end': 68}], 'offsets_in_context': [{'start': 3, 'end': 68}], 'document_ids': ['6f658c8715923064f7a975e8d5941789'], 'meta': {'name': 'politique_de_confidentialite_donnees_personnelles_bdf_mars_2020.pdf', '_split_id': 27}}>],\n",
       " 'documents': [<Document: {'content': 'Politique de Confidentialité - Protection des données à caractère personnel - PUBLIC Version 03/2020 Politique de Confidentialite * * * Protection des donnees a caractere personnel La Banque de France fait partie intégrante du Système européen de banques centrales (SEBC) institué par l’article 8 du traité instituant la Communauté européenne. C’est une institution publique sui generis dont le capital appartient à l’État et qui est régie par les articles L. 141-1 et suivants du Code monétaire et financier. Qu’elles s’exercent dans le cadre européen ou au niveau national, ses missions et activités sont nombreuses et extrêmement variées. ', 'content_type': 'text', 'score': 12.176209668927864, 'meta': {'name': 'politique_de_confidentialite_donnees_personnelles_bdf_mars_2020.pdf', '_split_id': 0}, 'id_hash_keys': ['content'], 'embedding': None, 'id': '9fb2ec43920e75d4c1d7ff5013084682'}>,\n",
       "  <Document: {'content': \"Lorsque ces informations comportent des données à caractère personnel, elles ne peuvent être rendues publiques qu'après avoir fait l'objet d'un traitement d’anonymisation permettant de rendre impossible l'identification directe ou indirecte des personnes1 . Les données à caractère personnel sont conservées par la Banque de France sur le territoire français ou dans un pays de l’Union Européenne. \", 'content_type': 'text', 'score': 7.3133341319545, 'meta': {'name': 'politique_de_confidentialite_donnees_personnelles_bdf_mars_2020.pdf', '_split_id': 17}, 'id_hash_keys': ['content'], 'embedding': None, 'id': '4d86d9d8e6095365c4941ae79b18ad66'}>,\n",
       "  <Document: {'content': 'La Banque de France a désigné un délégué à la protection des données, déclaré auprès de la CNIL. Les coordonnées du délégué à la protection des données sont 1200-DPD-delegue-ut@banque-france.fr. 8. Comment prendre connaissance des modifications apportées à la Politique de Confidentialité ? La Politique de Confidentialité est publiée sur les sites Internet de la Banque de France. Elle est disponible sur simple demande auprès du délégué à la protection des données, dont les coordonnées sont mentionnées au point 7 ci-dessus. ', 'content_type': 'text', 'score': 5.98108478385761, 'meta': {'name': 'politique_de_confidentialite_donnees_personnelles_bdf_mars_2020.pdf', '_split_id': 27}, 'id_hash_keys': ['content'], 'embedding': None, 'id': '6f658c8715923064f7a975e8d5941789'}>,\n",
       "  <Document: {'content': 'La Banque de France peut faire appel à des prestataires et sous-traitants externes qui agissent sur ses instructions, pour le traitement de tout ou partie des données à caractère personnel, dans la limite nécessaire à l’accomplissement de leurs prestations. La Banque de France peut être amenée à transmettre des données à des tiers afin de respecter une obligation légale, d’exécuter une mission d’intérêt public qui lui est confiée ou un contrat (par exemple : personnes habilitées à consulter les fichiers tenus par la Banque de France, autorités de supervision, prestataires de services de paiement et gestionnaires de systèmes de paiement). ', 'content_type': 'text', 'score': 5.86735705177946, 'meta': {'name': 'politique_de_confidentialite_donnees_personnelles_bdf_mars_2020.pdf', '_split_id': 15}, 'id_hash_keys': ['content'], 'embedding': None, 'id': '5a05a44c9c48514d0cc494a65e1b7026'}>,\n",
       "  <Document: {'content': 'C’est le cas par exemple pour le recrutement, l’activité de tenue de comptes de la clientèle ou l’utilisation du service d’accueil de la Banque de France « Vos demandes en ligne » ; \\uf0fc L’intérêt légitime de la Banque de France dans le cadre en particulier des mesures de sécurité prises pour le contrôle d’accès à ses locaux (vidéosurveillance, badge, etc.) \\uf0fc Le consentement de la personne concernée lorsque celui-ci est requis. ', 'content_type': 'text', 'score': 5.853132732206261, 'meta': {'name': 'politique_de_confidentialite_donnees_personnelles_bdf_mars_2020.pdf', '_split_id': 10}, 'id_hash_keys': ['content'], 'embedding': None, 'id': '75376aca86d87692a5d945b5b0903402'}>,\n",
       "  <Document: {'content': 'Les données collectées peuvent également être utilisées pour prévenir et lutter contre la fraude notamment informatique (envoi de courriels indésirables ou « spamming », hameçonnage ou « phishing », piratage informatique ou « hacking », usurpation de la qualité ou de l’identité du destinataire des données personnelles collectées au sein de la Banque de France) et améliorer la qualité des produits proposés ou services rendus ainsi que, le cas échéant, la navigation sur les sites internet de la Banque de France.\\x0c', 'content_type': 'text', 'score': 5.7447337342739795, 'meta': {'name': 'politique_de_confidentialite_donnees_personnelles_bdf_mars_2020.pdf', '_split_id': 13}, 'id_hash_keys': ['content'], 'embedding': None, 'id': '5e1113d9dbe00c162b23bca8f8236ba8'}>,\n",
       "  <Document: {'content': 'La Banque de France veille en permanence, en sa qualité de responsable de traitement, à la protection des données à caractère personnel et au respect des obligations qui s’imposent à elle pour la collecte, l’utilisation et la conservation de ces données. Dans un souci de transparence et de strict respect de ses obligations, la Banque de France a adopté la présente Politique de Confidentialité afin d’informer l’ensemble des personnes concernées des principes d’utilisation et de protection des données à caractère personnel collectées qu’elle met en œuvre. 1. Quelles sont les catégories de données à caractère personnel traitées ? ', 'content_type': 'text', 'score': 5.716369627856535, 'meta': {'name': 'politique_de_confidentialite_donnees_personnelles_bdf_mars_2020.pdf', '_split_id': 3}, 'id_hash_keys': ['content'], 'embedding': None, 'id': 'ba9d6b7dfe8c60ea8f4c13ce8a6c1854'}>,\n",
       "  <Document: {'content': 'La personne concernée est informée sur les données collectées, sur les finalités et les bases juridiques des traitements, sur la durée de conservation des données, sur ses droits en la matière notamment dans les documents de collecte, la(les) convention(s) la liant à la Banque de France, responsable de traitement, ou encore les « Infos légales » situées en bas de page des sites Internet. La personne concernée peut exercer ses droits en adressant sa demande selon les modalités définies pour chaque traitement par la Banque de France. ', 'content_type': 'text', 'score': 5.5965363012651, 'meta': {'name': 'politique_de_confidentialite_donnees_personnelles_bdf_mars_2020.pdf', '_split_id': 24}, 'id_hash_keys': ['content'], 'embedding': None, 'id': 'af03ed4d30d5944406b34bd1e4e5d6bc'}>,\n",
       "  <Document: {'content': 'Toute modification de la présente Politique de Confidentialité est effective dès sa publication sur les sites Internet de la Banque de France. Seule la version en vigueur est accessible sur ces sites.', 'content_type': 'text', 'score': 5.5941381449933685, 'meta': {'name': 'politique_de_confidentialite_donnees_personnelles_bdf_mars_2020.pdf', '_split_id': 28}, 'id_hash_keys': ['content'], 'embedding': None, 'id': 'ee16f57b0fe6334624411f49bc9dc412'}>,\n",
       "  <Document: {'content': 'Cette situation se rencontre, par exemple, dans le cadre d’une demande d’exercice de droit au compte, d’un dépôt de dossier de surendettement, d’un recrutement ou encore lors de la navigation sur les sites Internet de la Banque de France. Mais ces données peuvent également être recueillies de manière indirecte en application de dispositions légales, réglementaires ou contractuelles. Il en va ainsi, par exemple, en cas d’inscription dans l’un des fichiers gérés par la Banque de France ou dans le cadre de l’exécution de services de paiement. ', 'content_type': 'text', 'score': 5.5899867610719305, 'meta': {'name': 'politique_de_confidentialite_donnees_personnelles_bdf_mars_2020.pdf', '_split_id': 5}, 'id_hash_keys': ['content'], 'embedding': None, 'id': '2e5f69cbfdb4da7870cb3e1c64973d63'}>],\n",
       " 'root_node': 'Query',\n",
       " 'params': {'Retriever': {'top_k': 10}, 'Reader': {'top_k': 5}},\n",
       " 'node_id': 'Reader'}"
      ]
     },
     "execution_count": 11,
     "metadata": {},
     "output_type": "execute_result"
    }
   ],
   "source": [
    "prediction"
   ]
  },
  {
   "cell_type": "code",
   "execution_count": 12,
   "metadata": {},
   "outputs": [
    {
     "name": "stdout",
     "output_type": "stream",
     "text": [
      "paiement 0.96\n",
      "Banque de France 0.85\n",
      "Vos demandes en ligne 0.74\n",
      "Système européen de banques centrales 0.66\n",
      "Banque de France a désigné un délégué à la protection des données 0.56\n"
     ]
    }
   ],
   "source": [
    "for prediction in prediction['answers']:\n",
    "    print(prediction.answer, round(prediction.score, 2))"
   ]
  },
  {
   "cell_type": "code",
   "execution_count": 13,
   "metadata": {},
   "outputs": [
    {
     "data": {
      "text/plain": [
       "24.14249897003174"
      ]
     },
     "execution_count": 13,
     "metadata": {},
     "output_type": "execute_result"
    }
   ],
   "source": [
    "end = time.time()\n",
    "\n",
    "time_out = end-start\n",
    "\n",
    "time_out"
   ]
  }
 ],
 "metadata": {
  "kernelspec": {
   "display_name": "NLP_QA_Project-_BgixJ9r",
   "language": "python",
   "name": "python3"
  },
  "language_info": {
   "codemirror_mode": {
    "name": "ipython",
    "version": 3
   },
   "file_extension": ".py",
   "mimetype": "text/x-python",
   "name": "python",
   "nbconvert_exporter": "python",
   "pygments_lexer": "ipython3",
   "version": "3.10.0"
  },
  "orig_nbformat": 4,
  "vscode": {
   "interpreter": {
    "hash": "94d2d5de0b5bb2debac03450215c00d4fc1ecde71d6a9a680eafe1039dff2941"
   }
  }
 },
 "nbformat": 4,
 "nbformat_minor": 2
}
